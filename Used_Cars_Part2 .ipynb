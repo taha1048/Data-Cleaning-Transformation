{
 "cells": [
  {
   "cell_type": "code",
   "execution_count": 1,
   "id": "794c6e91",
   "metadata": {},
   "outputs": [],
   "source": [
    "import pandas as pd\n",
    "import numpy as np\n",
    "import matplotlib.pyplot as plt\n",
    "import seaborn as sns"
   ]
  },
  {
   "cell_type": "code",
   "execution_count": 22,
   "id": "0fafc798",
   "metadata": {},
   "outputs": [],
   "source": [
    "# uploading the dataset\n",
    "df = pd.read_csv(r\"C:\\Users\\m\\Downloads\\excel files\\vehicles.csv\")"
   ]
  },
  {
   "cell_type": "code",
   "execution_count": 23,
   "id": "ce76d0cb",
   "metadata": {},
   "outputs": [
    {
     "data": {
      "text/plain": [
       "(426880, 26)"
      ]
     },
     "execution_count": 23,
     "metadata": {},
     "output_type": "execute_result"
    }
   ],
   "source": [
    "df.shape"
   ]
  },
  {
   "cell_type": "code",
   "execution_count": 27,
   "id": "da48c43f",
   "metadata": {},
   "outputs": [],
   "source": [
    "# useless columns\n",
    "df.drop(['id', 'url', 'region_url', 'county',\n",
    "         'image_url', 'description', 'posting_date'],\n",
    "        axis = 1, inplace = True)"
   ]
  },
  {
   "cell_type": "code",
   "execution_count": 28,
   "id": "cbd86e79",
   "metadata": {},
   "outputs": [
    {
     "data": {
      "text/plain": [
       "(379910, 19)"
      ]
     },
     "execution_count": 28,
     "metadata": {},
     "output_type": "execute_result"
    }
   ],
   "source": [
    "# price outliers\n",
    "df = df[df['price'].between(1000, 100000)]\n",
    "df.shape"
   ]
  },
  {
   "cell_type": "code",
   "execution_count": 29,
   "id": "f763dfcc",
   "metadata": {},
   "outputs": [
    {
     "data": {
      "text/plain": [
       "(377389, 19)"
      ]
     },
     "execution_count": 29,
     "metadata": {},
     "output_type": "execute_result"
    }
   ],
   "source": [
    "# odometer outlier\n",
    "df = df[df['odometer'] < 10**6]\n",
    "df.shape"
   ]
  },
  {
   "cell_type": "code",
   "execution_count": 30,
   "id": "8d507730",
   "metadata": {},
   "outputs": [
    {
     "data": {
      "text/plain": [
       "(376246, 19)"
      ]
     },
     "execution_count": 30,
     "metadata": {},
     "output_type": "execute_result"
    }
   ],
   "source": [
    "# droping year 2022 and null years\n",
    "df = df[df['year'] != 2022]\n",
    "df.dropna(subset = 'year', inplace = True)\n",
    "df.shape"
   ]
  },
  {
   "cell_type": "code",
   "execution_count": 31,
   "id": "4d37e1f2",
   "metadata": {},
   "outputs": [
    {
     "data": {
      "text/plain": [
       "(371954, 19)"
      ]
     },
     "execution_count": 31,
     "metadata": {},
     "output_type": "execute_result"
    }
   ],
   "source": [
    "# droping cars with no manufacturer and model\n",
    "df.dropna(subset = ['manufacturer', 'model'], how = 'all', inplace = True)\n",
    "# filling manufacturer with 'unknown'\n",
    "df['manufacturer'] = df['manufacturer'].fillna('unknown')\n",
    "# droping cars with no model\n",
    "df.dropna(subset = 'model', inplace = True)\n",
    "\n",
    "df.shape"
   ]
  },
  {
   "cell_type": "code",
   "execution_count": 32,
   "id": "ecf04328",
   "metadata": {},
   "outputs": [
    {
     "data": {
      "text/plain": [
       "(359740, 19)"
      ]
     },
     "execution_count": 32,
     "metadata": {},
     "output_type": "execute_result"
    }
   ],
   "source": [
    "# dropping strange inputs\n",
    "df = df[df['model'].str.contains('[♿🔥]') == False]\n",
    "df = df[df['model'].str.contains('^[,-./]') == False]\n",
    "df = df[df['model'].str.contains('^[\\W\\d]+$') == False]\n",
    "df = df[df['model'].str.contains('[@%$*#%*!=]') == False]\n",
    "\n",
    "df.shape"
   ]
  },
  {
   "cell_type": "code",
   "execution_count": 33,
   "id": "ce062eb8",
   "metadata": {},
   "outputs": [],
   "source": [
    "# filling paint_color with 'custom'\n",
    "df['paint_color'] = df['paint_color'].fillna('custom')\n",
    "\n",
    "# filling title_status with mode value\n",
    "df['title_status'] = df['title_status'].fillna('clean')\n",
    "\n",
    "# filling transmission with mode value\n",
    "df['transmission'].fillna(df['transmission'].mode().iloc[0], inplace = True)\n",
    "\n",
    "# filling fuel with mode value\n",
    "df['fuel'].fillna(df['fuel'].mode().iloc[0], inplace = True)\n",
    "\n",
    "# filling odometer with the median value\n",
    "df['odometer'] = df['odometer'].fillna(df['odometer'].median())\n",
    "\n",
    "# convert VIN to binary\n",
    "df.loc[df['VIN'].notnull(), 'VIN'] = 1  # replacing exsisting VINs with 1\n",
    "df['VIN'].fillna(0, inplace = True)  # filling nulls with 0"
   ]
  },
  {
   "cell_type": "code",
   "execution_count": 34,
   "id": "a0fed46c",
   "metadata": {},
   "outputs": [],
   "source": [
    "# populating lat & long with the median value per each 'region'\n",
    "regions = df['region'].unique()\n",
    "\n",
    "# Fill missing lat and long based on median values for each region\n",
    "for region in regions:\n",
    "    median_lat = df[df['region'] == region]['lat'].median()\n",
    "    median_long = df[df['region'] == region]['long'].median()\n",
    "    df.loc[(df['region'] == region) & (df['lat'].isnull()), 'lat'] = median_lat\n",
    "    df.loc[(df['region'] == region) & (df['long'].isnull()), 'long'] = median_long"
   ]
  },
  {
   "cell_type": "code",
   "execution_count": 35,
   "id": "bafd89c0",
   "metadata": {},
   "outputs": [
    {
     "name": "stdout",
     "output_type": "stream",
     "text": [
      "cylinders \n",
      " number of missing valus :   15\n",
      "type \n",
      " number of missing valus :   0\n",
      "drive \n",
      " number of missing valus :   0\n",
      "size \n",
      " number of missing valus :   16\n"
     ]
    }
   ],
   "source": [
    "# bfill some features\n",
    "columns = ['cylinders', 'type', 'drive', 'size']\n",
    "\n",
    "for column in columns:\n",
    "    df.sort_values(by = ['manufacturer', 'model', column], inplace = True)\n",
    "    df[column].fillna(method = 'bfill', inplace = True)\n",
    "    \n",
    "    print(column, '\\n number of missing valus :  ', df[column].isnull().sum() )"
   ]
  },
  {
   "cell_type": "code",
   "execution_count": 36,
   "id": "885a6852",
   "metadata": {},
   "outputs": [],
   "source": [
    "# dropping remaining nulls\n",
    "df.dropna(subset = ['size', 'cylinders'], inplace = True)"
   ]
  },
  {
   "cell_type": "code",
   "execution_count": 37,
   "id": "219e6e97",
   "metadata": {
    "scrolled": false
   },
   "outputs": [
    {
     "data": {
      "text/plain": [
       "region           0.000000\n",
       "price            0.000000\n",
       "year             0.000000\n",
       "manufacturer     0.000000\n",
       "model            0.000000\n",
       "condition       36.700081\n",
       "cylinders        0.000000\n",
       "fuel             0.000000\n",
       "odometer         0.000000\n",
       "title_status     0.000000\n",
       "transmission     0.000000\n",
       "VIN              0.000000\n",
       "drive            0.000000\n",
       "size             0.000000\n",
       "type             0.000000\n",
       "paint_color      0.000000\n",
       "state            0.000000\n",
       "lat              0.000000\n",
       "long             0.000000\n",
       "dtype: float64"
      ]
     },
     "execution_count": 37,
     "metadata": {},
     "output_type": "execute_result"
    }
   ],
   "source": [
    "(df.isnull().sum()/len(df)) * 100"
   ]
  },
  {
   "cell_type": "code",
   "execution_count": 38,
   "id": "604549fe",
   "metadata": {},
   "outputs": [
    {
     "data": {
      "text/plain": [
       "(359724, 19)"
      ]
     },
     "execution_count": 38,
     "metadata": {},
     "output_type": "execute_result"
    }
   ],
   "source": [
    "df.shape"
   ]
  },
  {
   "cell_type": "code",
   "execution_count": 39,
   "id": "e3731797",
   "metadata": {},
   "outputs": [
    {
     "data": {
      "text/plain": [
       "84.2681784107946"
      ]
     },
     "execution_count": 39,
     "metadata": {},
     "output_type": "execute_result"
    }
   ],
   "source": [
    "(359724/426880) * 100"
   ]
  },
  {
   "cell_type": "code",
   "execution_count": 40,
   "id": "82e85cd4",
   "metadata": {},
   "outputs": [],
   "source": [
    "# Saving the results to a csv file for the next session\n",
    "df.to_csv('Clean_Used_Cars', index = False)"
   ]
  },
  {
   "cell_type": "code",
   "execution_count": null,
   "id": "035218e5",
   "metadata": {},
   "outputs": [],
   "source": []
  }
 ],
 "metadata": {
  "kernelspec": {
   "display_name": "Python 3 (ipykernel)",
   "language": "python",
   "name": "python3"
  },
  "language_info": {
   "codemirror_mode": {
    "name": "ipython",
    "version": 3
   },
   "file_extension": ".py",
   "mimetype": "text/x-python",
   "name": "python",
   "nbconvert_exporter": "python",
   "pygments_lexer": "ipython3",
   "version": "3.11.5"
  }
 },
 "nbformat": 4,
 "nbformat_minor": 5
}
