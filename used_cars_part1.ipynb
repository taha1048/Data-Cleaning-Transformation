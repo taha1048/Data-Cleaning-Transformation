{
 "cells": [
  {
   "cell_type": "markdown",
   "id": "d51cb31e",
   "metadata": {},
   "source": [
    "# Handling missing values"
   ]
  },
  {
   "cell_type": "markdown",
   "id": "a2965331",
   "metadata": {},
   "source": [
    " \n",
    "# Here are the applied stpes:\n",
    "    \n",
    "1- dropping useless columns ['id', 'url', 'region_url', 'county', 'size', 'image_url', 'description']\n",
    "\n",
    "2- dropping useless rows where nulls cann't be populated\n",
    "\n",
    "3- populating related columns on each others\n",
    "\n",
    "    'manufacturer' & 'model'\n",
    "    \n",
    "4- populating \n",
    "\n",
    "    ['type' , 'drive'] on 'model'\n",
    "    \n",
    "    'cylinders' on 'type'\n",
    "    \n",
    "    'condition' on 'year'\n",
    "    \n",
    "5- filling columns with small number of nulls with mode or mean values\n",
    "\n",
    "    ['Fuel', 'title_status', 'transmission', 'odometer']\n",
    "    \n",
    "6- fill missing 'paint_color' with 'custom'\n",
    "    \n",
    "7- removing outliers & nulls from the 'year' column\n",
    "\n",
    "8- convert the 'VIN' to a binary column (0,1)\n",
    "\n",
    "9- dropping nulls from ['lat', 'long'] \n",
    "\n"
   ]
  },
  {
   "cell_type": "code",
   "execution_count": 1,
   "id": "1e506b3f",
   "metadata": {},
   "outputs": [],
   "source": [
    "import pandas as pd\n",
    "import numpy as np\n",
    "import matplotlib.pyplot as plt\n",
    "import seaborn as sns"
   ]
  },
  {
   "cell_type": "code",
   "execution_count": 2,
   "id": "7611620a",
   "metadata": {},
   "outputs": [],
   "source": [
    "# uploading the dataset\n",
    "data = pd.read_csv(r\"C:\\Users\\m\\Downloads\\excel files\\vehicles.csv\")"
   ]
  },
  {
   "cell_type": "code",
   "execution_count": 3,
   "id": "4318faed",
   "metadata": {},
   "outputs": [
    {
     "data": {
      "text/plain": [
       "(426880, 26)"
      ]
     },
     "execution_count": 3,
     "metadata": {},
     "output_type": "execute_result"
    }
   ],
   "source": [
    "data.shape"
   ]
  },
  {
   "cell_type": "code",
   "execution_count": 4,
   "id": "59ab001f",
   "metadata": {},
   "outputs": [],
   "source": [
    "# it took a lot of time to work with the 400k rows of data so 100K would be more effective\n",
    "\n",
    "df = data.sample(100000)"
   ]
  },
  {
   "cell_type": "markdown",
   "id": "6cd71d48",
   "metadata": {},
   "source": [
    "# Overview"
   ]
  },
  {
   "cell_type": "code",
   "execution_count": 5,
   "id": "3dfc24cf",
   "metadata": {},
   "outputs": [
    {
     "data": {
      "text/html": [
       "<div>\n",
       "<style scoped>\n",
       "    .dataframe tbody tr th:only-of-type {\n",
       "        vertical-align: middle;\n",
       "    }\n",
       "\n",
       "    .dataframe tbody tr th {\n",
       "        vertical-align: top;\n",
       "    }\n",
       "\n",
       "    .dataframe thead th {\n",
       "        text-align: right;\n",
       "    }\n",
       "</style>\n",
       "<table border=\"1\" class=\"dataframe\">\n",
       "  <thead>\n",
       "    <tr style=\"text-align: right;\">\n",
       "      <th></th>\n",
       "      <th>id</th>\n",
       "      <th>url</th>\n",
       "      <th>region</th>\n",
       "      <th>region_url</th>\n",
       "      <th>price</th>\n",
       "      <th>year</th>\n",
       "      <th>manufacturer</th>\n",
       "      <th>model</th>\n",
       "      <th>condition</th>\n",
       "      <th>cylinders</th>\n",
       "      <th>fuel</th>\n",
       "      <th>odometer</th>\n",
       "      <th>title_status</th>\n",
       "      <th>transmission</th>\n",
       "      <th>VIN</th>\n",
       "      <th>drive</th>\n",
       "      <th>size</th>\n",
       "      <th>type</th>\n",
       "      <th>paint_color</th>\n",
       "      <th>image_url</th>\n",
       "      <th>description</th>\n",
       "      <th>county</th>\n",
       "      <th>state</th>\n",
       "      <th>lat</th>\n",
       "      <th>long</th>\n",
       "      <th>posting_date</th>\n",
       "    </tr>\n",
       "  </thead>\n",
       "  <tbody>\n",
       "    <tr>\n",
       "      <th>22258</th>\n",
       "      <td>7310944240</td>\n",
       "      <td>https://bakersfield.craigslist.org/ctd/d/victo...</td>\n",
       "      <td>bakersfield</td>\n",
       "      <td>https://bakersfield.craigslist.org</td>\n",
       "      <td>0</td>\n",
       "      <td>2018.0</td>\n",
       "      <td>hyundai</td>\n",
       "      <td>accent</td>\n",
       "      <td>NaN</td>\n",
       "      <td>NaN</td>\n",
       "      <td>gas</td>\n",
       "      <td>55985.0</td>\n",
       "      <td>clean</td>\n",
       "      <td>automatic</td>\n",
       "      <td>3KPC24A33JE006049</td>\n",
       "      <td>fwd</td>\n",
       "      <td>full-size</td>\n",
       "      <td>sedan</td>\n",
       "      <td>silver</td>\n",
       "      <td>https://images.craigslist.org/00R0R_ddPDQlpJ42...</td>\n",
       "      <td>Vehicle DescriptionStand out from the crowd wi...</td>\n",
       "      <td>NaN</td>\n",
       "      <td>ca</td>\n",
       "      <td>34.480200</td>\n",
       "      <td>-117.408200</td>\n",
       "      <td>2021-04-22T10:52:45-0700</td>\n",
       "    </tr>\n",
       "    <tr>\n",
       "      <th>54839</th>\n",
       "      <td>7316466087</td>\n",
       "      <td>https://sandiego.craigslist.org/csd/cto/d/ocea...</td>\n",
       "      <td>san diego</td>\n",
       "      <td>https://sandiego.craigslist.org</td>\n",
       "      <td>4000</td>\n",
       "      <td>2001.0</td>\n",
       "      <td>jeep</td>\n",
       "      <td>grand cherokee</td>\n",
       "      <td>excellent</td>\n",
       "      <td>NaN</td>\n",
       "      <td>gas</td>\n",
       "      <td>200000.0</td>\n",
       "      <td>clean</td>\n",
       "      <td>automatic</td>\n",
       "      <td>NaN</td>\n",
       "      <td>NaN</td>\n",
       "      <td>NaN</td>\n",
       "      <td>SUV</td>\n",
       "      <td>NaN</td>\n",
       "      <td>https://images.craigslist.org/00U0U_hSDeLFWkjS...</td>\n",
       "      <td>2001 grand jeep Cherokee limited edition 1 own...</td>\n",
       "      <td>NaN</td>\n",
       "      <td>ca</td>\n",
       "      <td>33.240700</td>\n",
       "      <td>-117.302500</td>\n",
       "      <td>2021-05-03T15:13:59-0700</td>\n",
       "    </tr>\n",
       "    <tr>\n",
       "      <th>324826</th>\n",
       "      <td>7306374552</td>\n",
       "      <td>https://roseburg.craigslist.org/ctd/d/portland...</td>\n",
       "      <td>roseburg</td>\n",
       "      <td>https://roseburg.craigslist.org</td>\n",
       "      <td>21997</td>\n",
       "      <td>2007.0</td>\n",
       "      <td>toyota</td>\n",
       "      <td>4runner sport edition 4dr suv 1-oregon owner*r...</td>\n",
       "      <td>NaN</td>\n",
       "      <td>6 cylinders</td>\n",
       "      <td>gas</td>\n",
       "      <td>171525.0</td>\n",
       "      <td>clean</td>\n",
       "      <td>automatic</td>\n",
       "      <td>JTEBU14RX78083407</td>\n",
       "      <td>4wd</td>\n",
       "      <td>NaN</td>\n",
       "      <td>SUV</td>\n",
       "      <td>white</td>\n",
       "      <td>https://images.craigslist.org/00707_eBzUkauPsA...</td>\n",
       "      <td>UP FOR GRABS IS A SUPER HARD TO FIND IN THIS S...</td>\n",
       "      <td>NaN</td>\n",
       "      <td>or</td>\n",
       "      <td>45.547200</td>\n",
       "      <td>-122.500100</td>\n",
       "      <td>2021-04-13T14:02:03-0700</td>\n",
       "    </tr>\n",
       "    <tr>\n",
       "      <th>7583</th>\n",
       "      <td>7303306508</td>\n",
       "      <td>https://anchorage.craigslist.org/ctd/d/anchora...</td>\n",
       "      <td>anchorage / mat-su</td>\n",
       "      <td>https://anchorage.craigslist.org</td>\n",
       "      <td>9999</td>\n",
       "      <td>2010.0</td>\n",
       "      <td>subaru</td>\n",
       "      <td>impreza</td>\n",
       "      <td>NaN</td>\n",
       "      <td>4 cylinders</td>\n",
       "      <td>gas</td>\n",
       "      <td>119750.0</td>\n",
       "      <td>clean</td>\n",
       "      <td>automatic</td>\n",
       "      <td>JF1GH6B68AH823506</td>\n",
       "      <td>NaN</td>\n",
       "      <td>NaN</td>\n",
       "      <td>wagon</td>\n",
       "      <td>silver</td>\n",
       "      <td>https://images.craigslist.org/00b0b_cZeQBVyrdg...</td>\n",
       "      <td>This Subaru Impreza can be yours today!We have...</td>\n",
       "      <td>NaN</td>\n",
       "      <td>ak</td>\n",
       "      <td>61.211600</td>\n",
       "      <td>-149.876100</td>\n",
       "      <td>2021-04-07T12:04:14-0800</td>\n",
       "    </tr>\n",
       "    <tr>\n",
       "      <th>312203</th>\n",
       "      <td>7312338567</td>\n",
       "      <td>https://bend.craigslist.org/ctd/d/gladstone-19...</td>\n",
       "      <td>bend</td>\n",
       "      <td>https://bend.craigslist.org</td>\n",
       "      <td>26990</td>\n",
       "      <td>1999.0</td>\n",
       "      <td>ford</td>\n",
       "      <td>f-350</td>\n",
       "      <td>NaN</td>\n",
       "      <td>NaN</td>\n",
       "      <td>diesel</td>\n",
       "      <td>181510.0</td>\n",
       "      <td>clean</td>\n",
       "      <td>automatic</td>\n",
       "      <td>1FTSW31F8XEA70757</td>\n",
       "      <td>4wd</td>\n",
       "      <td>NaN</td>\n",
       "      <td>pickup</td>\n",
       "      <td>blue</td>\n",
       "      <td>https://images.craigslist.org/00V0V_esUuhje1HE...</td>\n",
       "      <td>1999 Ford F-350 F350 F 350 Super Duty XLT Crew...</td>\n",
       "      <td>NaN</td>\n",
       "      <td>or</td>\n",
       "      <td>45.382346</td>\n",
       "      <td>-122.605132</td>\n",
       "      <td>2021-04-25T08:32:45-0700</td>\n",
       "    </tr>\n",
       "  </tbody>\n",
       "</table>\n",
       "</div>"
      ],
      "text/plain": [
       "                id                                                url  \\\n",
       "22258   7310944240  https://bakersfield.craigslist.org/ctd/d/victo...   \n",
       "54839   7316466087  https://sandiego.craigslist.org/csd/cto/d/ocea...   \n",
       "324826  7306374552  https://roseburg.craigslist.org/ctd/d/portland...   \n",
       "7583    7303306508  https://anchorage.craigslist.org/ctd/d/anchora...   \n",
       "312203  7312338567  https://bend.craigslist.org/ctd/d/gladstone-19...   \n",
       "\n",
       "                    region                          region_url  price    year  \\\n",
       "22258          bakersfield  https://bakersfield.craigslist.org      0  2018.0   \n",
       "54839            san diego     https://sandiego.craigslist.org   4000  2001.0   \n",
       "324826            roseburg     https://roseburg.craigslist.org  21997  2007.0   \n",
       "7583    anchorage / mat-su    https://anchorage.craigslist.org   9999  2010.0   \n",
       "312203                bend         https://bend.craigslist.org  26990  1999.0   \n",
       "\n",
       "       manufacturer                                              model  \\\n",
       "22258       hyundai                                             accent   \n",
       "54839          jeep                                     grand cherokee   \n",
       "324826       toyota  4runner sport edition 4dr suv 1-oregon owner*r...   \n",
       "7583         subaru                                            impreza   \n",
       "312203         ford                                              f-350   \n",
       "\n",
       "        condition    cylinders    fuel  odometer title_status transmission  \\\n",
       "22258         NaN          NaN     gas   55985.0        clean    automatic   \n",
       "54839   excellent          NaN     gas  200000.0        clean    automatic   \n",
       "324826        NaN  6 cylinders     gas  171525.0        clean    automatic   \n",
       "7583          NaN  4 cylinders     gas  119750.0        clean    automatic   \n",
       "312203        NaN          NaN  diesel  181510.0        clean    automatic   \n",
       "\n",
       "                      VIN drive       size    type paint_color  \\\n",
       "22258   3KPC24A33JE006049   fwd  full-size   sedan      silver   \n",
       "54839                 NaN   NaN        NaN     SUV         NaN   \n",
       "324826  JTEBU14RX78083407   4wd        NaN     SUV       white   \n",
       "7583    JF1GH6B68AH823506   NaN        NaN   wagon      silver   \n",
       "312203  1FTSW31F8XEA70757   4wd        NaN  pickup        blue   \n",
       "\n",
       "                                                image_url  \\\n",
       "22258   https://images.craigslist.org/00R0R_ddPDQlpJ42...   \n",
       "54839   https://images.craigslist.org/00U0U_hSDeLFWkjS...   \n",
       "324826  https://images.craigslist.org/00707_eBzUkauPsA...   \n",
       "7583    https://images.craigslist.org/00b0b_cZeQBVyrdg...   \n",
       "312203  https://images.craigslist.org/00V0V_esUuhje1HE...   \n",
       "\n",
       "                                              description  county state  \\\n",
       "22258   Vehicle DescriptionStand out from the crowd wi...     NaN    ca   \n",
       "54839   2001 grand jeep Cherokee limited edition 1 own...     NaN    ca   \n",
       "324826  UP FOR GRABS IS A SUPER HARD TO FIND IN THIS S...     NaN    or   \n",
       "7583    This Subaru Impreza can be yours today!We have...     NaN    ak   \n",
       "312203  1999 Ford F-350 F350 F 350 Super Duty XLT Crew...     NaN    or   \n",
       "\n",
       "              lat        long              posting_date  \n",
       "22258   34.480200 -117.408200  2021-04-22T10:52:45-0700  \n",
       "54839   33.240700 -117.302500  2021-05-03T15:13:59-0700  \n",
       "324826  45.547200 -122.500100  2021-04-13T14:02:03-0700  \n",
       "7583    61.211600 -149.876100  2021-04-07T12:04:14-0800  \n",
       "312203  45.382346 -122.605132  2021-04-25T08:32:45-0700  "
      ]
     },
     "execution_count": 5,
     "metadata": {},
     "output_type": "execute_result"
    }
   ],
   "source": [
    "# displaying top 5 rows\n",
    "pd.set_option('display.max_column', None)\n",
    "df.head()"
   ]
  },
  {
   "cell_type": "code",
   "execution_count": 6,
   "id": "7f9d2271",
   "metadata": {},
   "outputs": [
    {
     "name": "stdout",
     "output_type": "stream",
     "text": [
      "<class 'pandas.core.frame.DataFrame'>\n",
      "Index: 100000 entries, 22258 to 377576\n",
      "Data columns (total 26 columns):\n",
      " #   Column        Non-Null Count   Dtype  \n",
      "---  ------        --------------   -----  \n",
      " 0   id            100000 non-null  int64  \n",
      " 1   url           100000 non-null  object \n",
      " 2   region        100000 non-null  object \n",
      " 3   region_url    100000 non-null  object \n",
      " 4   price         100000 non-null  int64  \n",
      " 5   year          99717 non-null   float64\n",
      " 6   manufacturer  95890 non-null   object \n",
      " 7   model         98740 non-null   object \n",
      " 8   condition     59388 non-null   object \n",
      " 9   cylinders     58684 non-null   object \n",
      " 10  fuel          99293 non-null   object \n",
      " 11  odometer      98985 non-null   float64\n",
      " 12  title_status  98058 non-null   object \n",
      " 13  transmission  99413 non-null   object \n",
      " 14  VIN           62435 non-null   object \n",
      " 15  drive         69502 non-null   object \n",
      " 16  size          28510 non-null   object \n",
      " 17  type          78425 non-null   object \n",
      " 18  paint_color   69671 non-null   object \n",
      " 19  image_url     99985 non-null   object \n",
      " 20  description   99985 non-null   object \n",
      " 21  county        0 non-null       float64\n",
      " 22  state         100000 non-null  object \n",
      " 23  lat           98478 non-null   float64\n",
      " 24  long          98478 non-null   float64\n",
      " 25  posting_date  99985 non-null   object \n",
      "dtypes: float64(5), int64(2), object(19)\n",
      "memory usage: 20.6+ MB\n"
     ]
    }
   ],
   "source": [
    "# checking data types and nulls\n",
    "df.info()"
   ]
  },
  {
   "cell_type": "code",
   "execution_count": 7,
   "id": "92f8aeca",
   "metadata": {},
   "outputs": [
    {
     "data": {
      "text/plain": [
       "id                0.000\n",
       "url               0.000\n",
       "region            0.000\n",
       "region_url        0.000\n",
       "price             0.000\n",
       "year              0.283\n",
       "manufacturer      4.110\n",
       "model             1.260\n",
       "condition        40.612\n",
       "cylinders        41.316\n",
       "fuel              0.707\n",
       "odometer          1.015\n",
       "title_status      1.942\n",
       "transmission      0.587\n",
       "VIN              37.565\n",
       "drive            30.498\n",
       "size             71.490\n",
       "type             21.575\n",
       "paint_color      30.329\n",
       "image_url         0.015\n",
       "description       0.015\n",
       "county          100.000\n",
       "state             0.000\n",
       "lat               1.522\n",
       "long              1.522\n",
       "posting_date      0.015\n",
       "dtype: float64"
      ]
     },
     "execution_count": 7,
     "metadata": {},
     "output_type": "execute_result"
    }
   ],
   "source": [
    "# calculating nulls percentage per each column\n",
    "(df.isnull().sum()/len(df)) * 100"
   ]
  },
  {
   "cell_type": "code",
   "execution_count": 8,
   "id": "d4b53f34",
   "metadata": {},
   "outputs": [
    {
     "data": {
      "text/plain": [
       "id              100000\n",
       "url             100000\n",
       "region             404\n",
       "region_url         413\n",
       "price             8128\n",
       "year               107\n",
       "manufacturer        42\n",
       "model            13750\n",
       "condition            6\n",
       "cylinders            8\n",
       "fuel                 5\n",
       "odometer         45291\n",
       "title_status         6\n",
       "transmission         3\n",
       "VIN              41766\n",
       "drive                3\n",
       "size                 4\n",
       "type                13\n",
       "paint_color         12\n",
       "image_url        74277\n",
       "description      92668\n",
       "county               0\n",
       "state               51\n",
       "lat              22158\n",
       "long             22339\n",
       "posting_date     97013\n",
       "dtype: int64"
      ]
     },
     "execution_count": 8,
     "metadata": {},
     "output_type": "execute_result"
    }
   ],
   "source": [
    "# exploring unique values\n",
    "df.nunique()"
   ]
  },
  {
   "cell_type": "code",
   "execution_count": 9,
   "id": "46f183fd",
   "metadata": {},
   "outputs": [
    {
     "name": "stdout",
     "output_type": "stream",
     "text": [
      "condition : \n",
      " [nan 'excellent' 'good' 'like new' 'fair' 'new' 'salvage'] \n",
      "\n",
      "cylinders : \n",
      " [nan '6 cylinders' '4 cylinders' '8 cylinders' '3 cylinders' 'other'\n",
      " '12 cylinders' '5 cylinders' '10 cylinders'] \n",
      "\n",
      "fuel : \n",
      " ['gas' 'diesel' 'electric' 'other' 'hybrid' nan] \n",
      "\n",
      "title_status : \n",
      " ['clean' nan 'salvage' 'rebuilt' 'lien' 'missing' 'parts only'] \n",
      "\n",
      "transmission : \n",
      " ['automatic' 'manual' 'other' nan] \n",
      "\n",
      "drive : \n",
      " ['fwd' nan '4wd' 'rwd'] \n",
      "\n",
      "type : \n",
      " ['sedan' 'SUV' 'wagon' 'pickup' 'coupe' 'hatchback' nan 'truck' 'other'\n",
      " 'mini-van' 'convertible' 'van' 'offroad' 'bus'] \n",
      "\n",
      "paint_color : \n",
      " ['silver' nan 'white' 'blue' 'red' 'black' 'custom' 'brown' 'grey' 'green'\n",
      " 'purple' 'orange' 'yellow'] \n",
      "\n"
     ]
    }
   ],
   "source": [
    "# displaying unique values\n",
    "categorical_columns = df[['condition', 'cylinders', 'fuel', 'title_status',\n",
    "                          'transmission', 'drive', 'type', 'paint_color']]\n",
    "\n",
    "for column in categorical_columns:\n",
    "    print(column, ': \\n' , df[column].unique(), '\\n')"
   ]
  },
  {
   "cell_type": "markdown",
   "id": "8994b177",
   "metadata": {},
   "source": [
    "# Deleting useless rows & columns"
   ]
  },
  {
   "cell_type": "code",
   "execution_count": 10,
   "id": "20d031d0",
   "metadata": {},
   "outputs": [],
   "source": [
    "# useless columns\n",
    "df.drop(['id', 'url', 'region_url', 'county', 'size', 'image_url', 'description'], axis = 1, inplace = True)"
   ]
  },
  {
   "cell_type": "code",
   "execution_count": 11,
   "id": "02de9b5b",
   "metadata": {},
   "outputs": [],
   "source": [
    "# cars with no manufacturer or model\n",
    "df.dropna(subset = ['manufacturer', 'model'], how = 'all', inplace = True)"
   ]
  },
  {
   "cell_type": "code",
   "execution_count": 12,
   "id": "5a963ea5",
   "metadata": {},
   "outputs": [],
   "source": [
    "# cars with no features\n",
    "df.dropna(subset = ['condition','cylinders','fuel',\n",
    "                    'odometer','title_status','transmission',\n",
    "                    'drive','type'], how = 'all', inplace = True)"
   ]
  },
  {
   "cell_type": "code",
   "execution_count": 13,
   "id": "7e25f064",
   "metadata": {},
   "outputs": [
    {
     "data": {
      "text/plain": [
       "(99868, 19)"
      ]
     },
     "execution_count": 13,
     "metadata": {},
     "output_type": "execute_result"
    }
   ],
   "source": [
    "# new shape\n",
    "df.shape"
   ]
  },
  {
   "cell_type": "code",
   "execution_count": 14,
   "id": "7640c537",
   "metadata": {
    "scrolled": false
   },
   "outputs": [
    {
     "data": {
      "text/plain": [
       "Index(['region', 'price', 'year', 'manufacturer', 'model', 'condition',\n",
       "       'cylinders', 'fuel', 'odometer', 'title_status', 'transmission', 'VIN',\n",
       "       'drive', 'type', 'paint_color', 'state', 'lat', 'long', 'posting_date'],\n",
       "      dtype='object')"
      ]
     },
     "execution_count": 14,
     "metadata": {},
     "output_type": "execute_result"
    }
   ],
   "source": [
    "# existing columns\n",
    "df.columns"
   ]
  },
  {
   "cell_type": "markdown",
   "id": "56ec749d",
   "metadata": {},
   "source": [
    "# Manufacturer & Model"
   ]
  },
  {
   "cell_type": "code",
   "execution_count": null,
   "id": "ede2de26",
   "metadata": {},
   "outputs": [],
   "source": [
    "# populating 'manufacturer' with the mode value per each 'model'"
   ]
  },
  {
   "cell_type": "code",
   "execution_count": 15,
   "id": "fc1b2a09",
   "metadata": {},
   "outputs": [
    {
     "name": "stdout",
     "output_type": "stream",
     "text": [
      "11745 11745 2004\n"
     ]
    }
   ],
   "source": [
    "# models' list\n",
    "models = df['model'].dropna().unique()\n",
    "\n",
    "# empty lists to save the results\n",
    "manufacturer_list = []\n",
    "model_list = []\n",
    "models_null_manufacturer = []\n",
    "\n",
    "for model in models:\n",
    "    # manufacturer mode value\n",
    "    mode_value = df[df['model'] == model]['manufacturer'].mode()\n",
    "    \n",
    "    if not mode_value.empty:\n",
    "        \n",
    "        # assining values to the lists\n",
    "        model_list.append(model)\n",
    "        manufacturer_list.append(mode_value.iloc[0])\n",
    "    else:\n",
    "        # models with no mode value\n",
    "        models_null_manufacturer.append(model)\n",
    "        \n",
    "# displaying the length of each list    \n",
    "print(len(model_list), len(manufacturer_list), len(models_null_manufacturer)) "
   ]
  },
  {
   "cell_type": "code",
   "execution_count": 16,
   "id": "1be572ae",
   "metadata": {},
   "outputs": [],
   "source": [
    "# filling nulls with the mode value per each 'model'\n",
    "for i in range(min(len(model_list), len(manufacturer_list))):\n",
    "    \n",
    "    df.loc[(df['manufacturer'].isnull()) & (df['model'] == model_list[i]), 'manufacturer'] = manufacturer_list[i]"
   ]
  },
  {
   "cell_type": "code",
   "execution_count": 17,
   "id": "4d0f4a18",
   "metadata": {},
   "outputs": [
    {
     "name": "stdout",
     "output_type": "stream",
     "text": [
      "3937 \n",
      "\n",
      "3937\n"
     ]
    }
   ],
   "source": [
    "# models_null_manufacturer\n",
    "\n",
    "# sum of null values\n",
    "print(df['manufacturer'].isnull().sum(), '\\n')\n",
    "# number of models with null values in the manufacturer column\n",
    "print(len(df[df['model'].isin(models_null_manufacturer)]))"
   ]
  },
  {
   "cell_type": "code",
   "execution_count": 18,
   "id": "f06276ff",
   "metadata": {},
   "outputs": [],
   "source": [
    "# filling remaining nulls with 'unknown'\n",
    "df['manufacturer'] = df['manufacturer'].fillna('unknown')"
   ]
  },
  {
   "cell_type": "code",
   "execution_count": 19,
   "id": "bc414280",
   "metadata": {},
   "outputs": [
    {
     "data": {
      "text/plain": [
       "0"
      ]
     },
     "execution_count": 19,
     "metadata": {},
     "output_type": "execute_result"
    }
   ],
   "source": [
    "# checking\n",
    "df['manufacturer'].isnull().sum()"
   ]
  },
  {
   "cell_type": "code",
   "execution_count": null,
   "id": "67c07e22",
   "metadata": {},
   "outputs": [],
   "source": [
    "# the same process for 'model'"
   ]
  },
  {
   "cell_type": "code",
   "execution_count": 21,
   "id": "0c92b530",
   "metadata": {},
   "outputs": [
    {
     "name": "stdout",
     "output_type": "stream",
     "text": [
      "42 42 1\n"
     ]
    }
   ],
   "source": [
    "# manufacturers list\n",
    "manufacturers = df['manufacturer'].dropna().unique()\n",
    "\n",
    "# empty lists to save the result\n",
    "manufacturer_list1 = []\n",
    "model_list1 = []\n",
    "manufacturer_null_model = []\n",
    "\n",
    "for manufacturer in manufacturers:\n",
    "    # model mode value\n",
    "    mode_value = df[df['manufacturer'] == manufacturer]['model'].mode()\n",
    "    \n",
    "    if not mode_value.empty:\n",
    "        # assining values to the lists\n",
    "        model_list1.append(mode_value.iloc[0])\n",
    "        manufacturer_list1.append(manufacturer)\n",
    "    else:\n",
    "        # manufacturers with no mode value\n",
    "        manufacturer_null_model.append(manufacturer)\n",
    "    \n",
    "# displaying the length of each list        \n",
    "print(len(model_list1), len(manufacturer_list1), len(manufacturer_null_model)) "
   ]
  },
  {
   "cell_type": "code",
   "execution_count": 22,
   "id": "063d31c5",
   "metadata": {},
   "outputs": [],
   "source": [
    "# filling nulls with the mode value per each 'manufacturer'\n",
    "for i in range(min(len(model_list1), len(manufacturer_list1))):\n",
    "    df.loc[(df['model'].isnull()) & (df['manufacturer'] == manufacturer_list1[i]), 'model'] = model_list1[i]"
   ]
  },
  {
   "cell_type": "code",
   "execution_count": 24,
   "id": "e56ff9ce",
   "metadata": {},
   "outputs": [],
   "source": [
    "# filling remaining nulls with 'unknown'\n",
    "df['model'] = df['model'].fillna('unknown')"
   ]
  },
  {
   "cell_type": "code",
   "execution_count": 25,
   "id": "bd74724e",
   "metadata": {},
   "outputs": [
    {
     "data": {
      "text/plain": [
       "0"
      ]
     },
     "execution_count": 25,
     "metadata": {},
     "output_type": "execute_result"
    }
   ],
   "source": [
    "# checking\n",
    "df['model'].isnull().sum()"
   ]
  },
  {
   "cell_type": "markdown",
   "id": "01ee6fa1",
   "metadata": {},
   "source": [
    "# Type on 'model'"
   ]
  },
  {
   "cell_type": "code",
   "execution_count": 26,
   "id": "2c5b2f10",
   "metadata": {},
   "outputs": [
    {
     "data": {
      "text/plain": [
       "array(['sedan', 'SUV', 'wagon', 'pickup', 'coupe', 'hatchback', nan,\n",
       "       'truck', 'other', 'mini-van', 'convertible', 'van', 'offroad',\n",
       "       'bus'], dtype=object)"
      ]
     },
     "execution_count": 26,
     "metadata": {},
     "output_type": "execute_result"
    }
   ],
   "source": [
    "# displaying unique values\n",
    "df['type'].unique()"
   ]
  },
  {
   "cell_type": "code",
   "execution_count": 27,
   "id": "3bb64fec",
   "metadata": {},
   "outputs": [
    {
     "name": "stdout",
     "output_type": "stream",
     "text": [
      "11547 11547 2202\n"
     ]
    }
   ],
   "source": [
    "# empty lists to save the result\n",
    "typ = []\n",
    "model_type = []\n",
    "models_null_type = []\n",
    "\n",
    "for model in models:\n",
    "    # manufacturer mode value\n",
    "    mode_value = df[df['model'] == model]['type'].mode()\n",
    "    \n",
    "    if not mode_value.empty:\n",
    "        \n",
    "        # assining values to the lists\n",
    "        model_type.append(model)\n",
    "        typ.append(mode_value.iloc[0])\n",
    "    else:\n",
    "        # models with no mode value\n",
    "        models_null_type.append(model)\n",
    "        \n",
    "# displaying the length of each list        \n",
    "print(len(model_type), len(typ), len(models_null_type))  "
   ]
  },
  {
   "cell_type": "code",
   "execution_count": 28,
   "id": "16a8788f",
   "metadata": {},
   "outputs": [],
   "source": [
    "# filling nulls with the mode value per each 'model'\n",
    "for i in range(min(len(model_type), len(typ))):\n",
    "    \n",
    "    df.loc[(df['type'].isnull()) & (df['model'] == model_type[i]), 'type'] = typ[i]"
   ]
  },
  {
   "cell_type": "code",
   "execution_count": 29,
   "id": "78c37cf2",
   "metadata": {},
   "outputs": [],
   "source": [
    "# filling remaining nulls with 'other'\n",
    "df['type'].fillna('other', inplace = True)"
   ]
  },
  {
   "cell_type": "code",
   "execution_count": 30,
   "id": "63a736b9",
   "metadata": {},
   "outputs": [
    {
     "data": {
      "text/plain": [
       "0"
      ]
     },
     "execution_count": 30,
     "metadata": {},
     "output_type": "execute_result"
    }
   ],
   "source": [
    "# checking\n",
    "df['type'].isnull().sum()"
   ]
  },
  {
   "cell_type": "markdown",
   "id": "0f3a4818",
   "metadata": {},
   "source": [
    "# Drive on 'model'"
   ]
  },
  {
   "cell_type": "code",
   "execution_count": 31,
   "id": "b5f45b31",
   "metadata": {},
   "outputs": [
    {
     "data": {
      "text/plain": [
       "array(['fwd', nan, '4wd', 'rwd'], dtype=object)"
      ]
     },
     "execution_count": 31,
     "metadata": {},
     "output_type": "execute_result"
    }
   ],
   "source": [
    "df['drive'].unique()"
   ]
  },
  {
   "cell_type": "code",
   "execution_count": 32,
   "id": "8c148942",
   "metadata": {},
   "outputs": [
    {
     "name": "stdout",
     "output_type": "stream",
     "text": [
      "10677 10677 3072\n"
     ]
    }
   ],
   "source": [
    "# empty lists to save the result\n",
    "drive = []\n",
    "model_drive = []\n",
    "models_null_drive = []\n",
    "\n",
    "for model in models:\n",
    "    # manufacturer mode value\n",
    "    mode_value = df[df['model'] == model]['drive'].mode()\n",
    "    \n",
    "    if not mode_value.empty:\n",
    "        \n",
    "        # assining values to the lists\n",
    "        model_drive.append(model)\n",
    "        drive.append(mode_value.iloc[0])\n",
    "    else:\n",
    "        # models with no mode value\n",
    "        models_null_drive.append(model)\n",
    "        \n",
    "# displaying the length of each list        \n",
    "print(len(model_drive), len(drive), len(models_null_drive))"
   ]
  },
  {
   "cell_type": "code",
   "execution_count": 33,
   "id": "b9ed9c49",
   "metadata": {},
   "outputs": [],
   "source": [
    "# filling nulls with the mode value per each 'model' \n",
    "for i in range(min(len(model_drive), len(drive))):\n",
    "    df.loc[(df['drive'].isnull()) & (df['model'] == model_drive[i]), 'drive'] = drive[i]"
   ]
  },
  {
   "cell_type": "code",
   "execution_count": 34,
   "id": "9dc6d63a",
   "metadata": {},
   "outputs": [],
   "source": [
    "# filling remaining nulls with the mode of the entire column\n",
    "df['drive'].fillna(df['drive'].mode().iloc[0], inplace = True)"
   ]
  },
  {
   "cell_type": "code",
   "execution_count": 35,
   "id": "523bd14b",
   "metadata": {},
   "outputs": [
    {
     "data": {
      "text/plain": [
       "0"
      ]
     },
     "execution_count": 35,
     "metadata": {},
     "output_type": "execute_result"
    }
   ],
   "source": [
    "# checking\n",
    "df['drive'].isnull().sum()"
   ]
  },
  {
   "cell_type": "markdown",
   "id": "c1fb001b",
   "metadata": {},
   "source": [
    "# Cylinders on 'Type'"
   ]
  },
  {
   "cell_type": "code",
   "execution_count": null,
   "id": "0ea262fb",
   "metadata": {},
   "outputs": [],
   "source": [
    "# populating number of cylinders besed on the vehicle type"
   ]
  },
  {
   "cell_type": "code",
   "execution_count": 36,
   "id": "cf9be9b3",
   "metadata": {},
   "outputs": [
    {
     "name": "stdout",
     "output_type": "stream",
     "text": [
      "13 13 0\n"
     ]
    }
   ],
   "source": [
    "vehicle_types = df['type'].unique()\n",
    "\n",
    "types = []\n",
    "cylinders = []\n",
    "empty = []\n",
    "\n",
    "for t in vehicle_types:\n",
    "    cylinder_mode = df[df['type'] == t]['cylinders'].mode()\n",
    "    \n",
    "    if not cylinder_mode.empty:\n",
    "        types.append(t)\n",
    "        cylinders.append(cylinder_mode.iloc[0])\n",
    "    else:\n",
    "        # types with no mode value\n",
    "        empty.append(t)\n",
    "print(len(types), len(cylinders), len(empty))"
   ]
  },
  {
   "cell_type": "code",
   "execution_count": 37,
   "id": "20a2bec5",
   "metadata": {},
   "outputs": [],
   "source": [
    "# filling nulls based on the vehicels 'type'\n",
    "for i in range(min(len(types), len(cylinders))):\n",
    "    df.loc[(df['cylinders'].isnull()) & (df['type'] == types[i]), 'cylinders'] = cylinders[i]"
   ]
  },
  {
   "cell_type": "code",
   "execution_count": 38,
   "id": "0ccecd16",
   "metadata": {},
   "outputs": [
    {
     "data": {
      "text/plain": [
       "0"
      ]
     },
     "execution_count": 38,
     "metadata": {},
     "output_type": "execute_result"
    }
   ],
   "source": [
    "# checking \n",
    "df['cylinders'].isnull().sum()"
   ]
  },
  {
   "cell_type": "code",
   "execution_count": 39,
   "id": "ca0f7381",
   "metadata": {},
   "outputs": [
    {
     "data": {
      "text/plain": [
       "array(['4 cylinders', '6 cylinders', '8 cylinders', '3 cylinders',\n",
       "       'other', '12 cylinders', '5 cylinders', '10 cylinders'],\n",
       "      dtype=object)"
      ]
     },
     "execution_count": 39,
     "metadata": {},
     "output_type": "execute_result"
    }
   ],
   "source": [
    "df['cylinders'].unique()"
   ]
  },
  {
   "cell_type": "markdown",
   "id": "a2337cf2",
   "metadata": {},
   "source": [
    "# Year"
   ]
  },
  {
   "cell_type": "code",
   "execution_count": 40,
   "id": "3455d285",
   "metadata": {},
   "outputs": [
    {
     "data": {
      "image/png": "[encoded data removed]",
      "text/plain": [
       "<Figure size 640x480 with 1 Axes>"
      ]
     },
     "metadata": {},
     "output_type": "display_data"
    }
   ],
   "source": [
    "sns.boxplot(y = df['year'])\n",
    "plt.show()"
   ]
  },
  {
   "cell_type": "code",
   "execution_count": 41,
   "id": "eef8b3b7",
   "metadata": {},
   "outputs": [
    {
     "data": {
      "image/png": "[encoded data removed]",
      "text/plain": [
       "<Figure size 640x480 with 1 Axes>"
      ]
     },
     "metadata": {},
     "output_type": "display_data"
    }
   ],
   "source": [
    "df['year'].hist()\n",
    "plt.show()"
   ]
  },
  {
   "cell_type": "code",
   "execution_count": 42,
   "id": "cba4167b",
   "metadata": {},
   "outputs": [],
   "source": [
    "# dropping rows with null years (small number of rows)\n",
    "df['year'].dropna(inplace = True)"
   ]
  },
  {
   "cell_type": "code",
   "execution_count": 43,
   "id": "fab49a87",
   "metadata": {},
   "outputs": [],
   "source": [
    "# removing outdated cars\n",
    "df = df[df['year']>=2000]"
   ]
  },
  {
   "cell_type": "markdown",
   "id": "a0be3a77",
   "metadata": {},
   "source": [
    "# Condition"
   ]
  },
  {
   "cell_type": "code",
   "execution_count": 45,
   "id": "5a99fde6",
   "metadata": {
    "scrolled": false
   },
   "outputs": [
    {
     "data": {
      "image/png": "[encoded data removed]",
      "text/plain": [
       "<Figure size 640x480 with 1 Axes>"
      ]
     },
     "metadata": {},
     "output_type": "display_data"
    },
    {
     "name": "stdout",
     "output_type": "stream",
     "text": [
      "count    22612.000000\n",
      "mean      2011.810057\n",
      "std          4.709617\n",
      "min       2000.000000\n",
      "25%       2008.000000\n",
      "50%       2013.000000\n",
      "75%       2015.000000\n",
      "max       2022.000000\n",
      "Name: year, dtype: float64 \n",
      "\n"
     ]
    },
    {
     "data": {
      "image/png": "[encoded data removed]",
      "text/plain": [
       "<Figure size 640x480 with 1 Axes>"
      ]
     },
     "metadata": {},
     "output_type": "display_data"
    },
    {
     "name": "stdout",
     "output_type": "stream",
     "text": [
      "count    26480.000000\n",
      "mean      2013.750869\n",
      "std          5.273707\n",
      "min       2000.000000\n",
      "25%       2011.000000\n",
      "50%       2015.000000\n",
      "75%       2018.000000\n",
      "max       2021.000000\n",
      "Name: year, dtype: float64 \n",
      "\n"
     ]
    },
    {
     "data": {
      "image/png": "[encoded data removed]",
      "text/plain": [
       "<Figure size 640x480 with 1 Axes>"
      ]
     },
     "metadata": {},
     "output_type": "display_data"
    },
    {
     "name": "stdout",
     "output_type": "stream",
     "text": [
      "count    4635.000000\n",
      "mean     2013.212298\n",
      "std         4.861196\n",
      "min      2000.000000\n",
      "25%      2010.000000\n",
      "50%      2014.000000\n",
      "75%      2017.000000\n",
      "max      2021.000000\n",
      "Name: year, dtype: float64 \n",
      "\n"
     ]
    },
    {
     "data": {
      "image/png": "[encoded data removed]",
      "text/plain": [
       "<Figure size 640x480 with 1 Axes>"
      ]
     },
     "metadata": {},
     "output_type": "display_data"
    },
    {
     "name": "stdout",
     "output_type": "stream",
     "text": [
      "count     977.000000\n",
      "mean     2005.298874\n",
      "std         3.595125\n",
      "min      2000.000000\n",
      "25%      2003.000000\n",
      "50%      2005.000000\n",
      "75%      2007.000000\n",
      "max      2022.000000\n",
      "Name: year, dtype: float64 \n",
      "\n"
     ]
    },
    {
     "data": {
      "image/png": "[encoded data removed]",
      "text/plain": [
       "<Figure size 640x480 with 1 Axes>"
      ]
     },
     "metadata": {},
     "output_type": "display_data"
    },
    {
     "name": "stdout",
     "output_type": "stream",
     "text": [
      "count     286.000000\n",
      "mean     2017.055944\n",
      "std         5.055865\n",
      "min      2000.000000\n",
      "25%      2015.000000\n",
      "50%      2019.000000\n",
      "75%      2021.000000\n",
      "max      2022.000000\n",
      "Name: year, dtype: float64 \n",
      "\n"
     ]
    },
    {
     "data": {
      "image/png": "[encoded data removed]",
      "text/plain": [
       "<Figure size 640x480 with 1 Axes>"
      ]
     },
     "metadata": {},
     "output_type": "display_data"
    },
    {
     "name": "stdout",
     "output_type": "stream",
     "text": [
      "count     112.000000\n",
      "mean     2007.732143\n",
      "std         5.355778\n",
      "min      2000.000000\n",
      "25%      2004.000000\n",
      "50%      2006.500000\n",
      "75%      2011.000000\n",
      "max      2021.000000\n",
      "Name: year, dtype: float64 \n",
      "\n"
     ]
    }
   ],
   "source": [
    "# discovering the distribution of each 'condition' over 'years'\n",
    "for cond in df['condition'].dropna().unique():\n",
    "    \n",
    "    sns.boxplot(y = df['year'][df['condition'] == cond])\n",
    "    plt.title(cond)\n",
    "    plt.show()\n",
    "    # descriptive stats of each 'condition'\n",
    "    print(df['year'][df['condition'] == cond].describe(), '\\n')\n",
    "    \n",
    "    "
   ]
  },
  {
   "cell_type": "code",
   "execution_count": null,
   "id": "9a54c268",
   "metadata": {},
   "outputs": [],
   "source": [
    "# populating the condition with the mode value per each year"
   ]
  },
  {
   "cell_type": "code",
   "execution_count": 46,
   "id": "5a021328",
   "metadata": {},
   "outputs": [
    {
     "name": "stdout",
     "output_type": "stream",
     "text": [
      "23 23 0\n"
     ]
    }
   ],
   "source": [
    "# years' list\n",
    "years = df['year'].unique()\n",
    "\n",
    "year_list = []\n",
    "condition_mode = []\n",
    "empty_years = []\n",
    "\n",
    "for year in years:\n",
    "    mode = df[df['year'] == year]['condition'].mode()\n",
    "    \n",
    "    if not mode.empty:\n",
    "        year_list.append(year)\n",
    "        condition_mode.append(mode.iloc[0])\n",
    "    else:\n",
    "        empty_years.append(year)\n",
    "print(len(year_list), len(condition_mode), len(empty_years))"
   ]
  },
  {
   "cell_type": "code",
   "execution_count": 47,
   "id": "ada02b2a",
   "metadata": {},
   "outputs": [],
   "source": [
    "# filling nulls\n",
    "for i in range(min(len(year_list), len(condition_mode))):\n",
    "    df.loc[(df['condition'].isnull()) & (df['year'] == year_list[i]), 'condition'] = condition_mode[i]"
   ]
  },
  {
   "cell_type": "code",
   "execution_count": 48,
   "id": "13e5da80",
   "metadata": {},
   "outputs": [
    {
     "data": {
      "text/plain": [
       "0"
      ]
     },
     "execution_count": 48,
     "metadata": {},
     "output_type": "execute_result"
    }
   ],
   "source": [
    "# checking\n",
    "df['condition'].isnull().sum()"
   ]
  },
  {
   "cell_type": "markdown",
   "id": "b60a3ffa",
   "metadata": {},
   "source": [
    "# Fuel, title_status, transmission, odometer, paint_color"
   ]
  },
  {
   "cell_type": "code",
   "execution_count": 49,
   "id": "e29cddba",
   "metadata": {},
   "outputs": [],
   "source": [
    "# filling nulls with the mode values \n",
    "for column in df[['fuel', 'title_status', 'transmission']]:\n",
    "    df[column].fillna(df[column].mode().iloc[0], inplace = True)"
   ]
  },
  {
   "cell_type": "code",
   "execution_count": 50,
   "id": "4347c867",
   "metadata": {},
   "outputs": [],
   "source": [
    "# filling with mean value\n",
    "df['odometer'].fillna(df['odometer'].mean(), inplace = True)"
   ]
  },
  {
   "cell_type": "code",
   "execution_count": 51,
   "id": "4a5f85ef",
   "metadata": {},
   "outputs": [],
   "source": [
    "# filling with 'custom'\n",
    "df['paint_color'].fillna('custom', inplace = True)"
   ]
  },
  {
   "cell_type": "markdown",
   "id": "7daf7886",
   "metadata": {},
   "source": [
    "# VIN"
   ]
  },
  {
   "cell_type": "code",
   "execution_count": null,
   "id": "21a33d0e",
   "metadata": {},
   "outputs": [],
   "source": [
    "# making it a binary column"
   ]
  },
  {
   "cell_type": "code",
   "execution_count": 52,
   "id": "5c64ff1d",
   "metadata": {
    "scrolled": true
   },
   "outputs": [],
   "source": [
    "# replacing exsisting VINs with 1\n",
    "df.loc[df['VIN'].notnull(), 'VIN'] = 1"
   ]
  },
  {
   "cell_type": "code",
   "execution_count": 53,
   "id": "ec333dd0",
   "metadata": {},
   "outputs": [],
   "source": [
    "# filling nulls with 0\n",
    "df['VIN'].fillna(0, inplace = True)"
   ]
  },
  {
   "cell_type": "markdown",
   "id": "57cf50be",
   "metadata": {},
   "source": [
    "# Lat & long"
   ]
  },
  {
   "cell_type": "code",
   "execution_count": 54,
   "id": "e3a3c291",
   "metadata": {},
   "outputs": [],
   "source": [
    "df.dropna(inplace = True)"
   ]
  },
  {
   "cell_type": "code",
   "execution_count": 55,
   "id": "a5fd8e9f",
   "metadata": {
    "scrolled": true
   },
   "outputs": [
    {
     "data": {
      "text/plain": [
       "region          0\n",
       "price           0\n",
       "year            0\n",
       "manufacturer    0\n",
       "model           0\n",
       "condition       0\n",
       "cylinders       0\n",
       "fuel            0\n",
       "odometer        0\n",
       "title_status    0\n",
       "transmission    0\n",
       "VIN             0\n",
       "drive           0\n",
       "type            0\n",
       "paint_color     0\n",
       "state           0\n",
       "lat             0\n",
       "long            0\n",
       "posting_date    0\n",
       "dtype: int64"
      ]
     },
     "execution_count": 55,
     "metadata": {},
     "output_type": "execute_result"
    }
   ],
   "source": [
    "# checking the whole dataset\n",
    "df.isnull().sum()"
   ]
  },
  {
   "cell_type": "code",
   "execution_count": 56,
   "id": "72dd5e1b",
   "metadata": {},
   "outputs": [],
   "source": [
    "# Saving the results to a csv file\n",
    "df.to_csv('used_cars_part1', index = False)"
   ]
  }
 ],
 "metadata": {
  "kernelspec": {
   "display_name": "Python 3 (ipykernel)",
   "language": "python",
   "name": "python3"
  },
  "language_info": {
   "codemirror_mode": {
    "name": "ipython",
    "version": 3
   },
   "file_extension": ".py",
   "mimetype": "text/x-python",
   "name": "python",
   "nbconvert_exporter": "python",
   "pygments_lexer": "ipython3",
   "version": "3.11.5"
  }
 },
 "nbformat": 4,
 "nbformat_minor": 5
}
