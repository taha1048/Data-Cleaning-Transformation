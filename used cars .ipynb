{
 "cells": [
  {
   "cell_type": "markdown",
   "id": "a2965331",
   "metadata": {},
   "source": [
    "# dealing with null values \n",
    "\n",
    "here are the applied stpes:\n",
    "    \n",
    "1- dropping useless columns ['id', 'url', 'region_url', 'county', 'size', 'image_url', 'description']\n",
    "\n",
    "2- dropping useless rows where nulls cann't be populated\n",
    "\n",
    "3- populating related columns on each others\n",
    "    'manufacturer' & 'model'\n",
    "    \n",
    "4- populating \n",
    "    ['type' , 'drive'] on 'model'\n",
    "    'cylinders' on 'type'\n",
    "    'condition' on 'year'\n",
    "    \n",
    "5- filling columns with small number of nulls with mode or mean values\n",
    "    ['Fuel', 'title_status', 'transmission', 'odometer', 'paint_color']\n",
    "    \n",
    "6- removing outliers from the 'year' column\n",
    "\n",
    "7- dropping nulls from ['lat', 'long', 'year'] \n"
   ]
  },
  {
   "cell_type": "code",
   "execution_count": 1,
   "id": "1e506b3f",
   "metadata": {},
   "outputs": [],
   "source": [
    "import pandas as pd\n",
    "import numpy as np\n",
    "import matplotlib.pyplot as plt\n",
    "import seaborn as sns"
   ]
  },
  {
   "cell_type": "code",
   "execution_count": 141,
   "id": "7611620a",
   "metadata": {},
   "outputs": [],
   "source": [
    "# uploading the dataset\n",
    "data = pd.read_csv(r\"C:\\Users\\m\\Downloads\\excel files\\vehicles.csv\")"
   ]
  },
  {
   "cell_type": "code",
   "execution_count": 3,
   "id": "4318faed",
   "metadata": {},
   "outputs": [
    {
     "data": {
      "text/plain": [
       "(426880, 26)"
      ]
     },
     "execution_count": 3,
     "metadata": {},
     "output_type": "execute_result"
    }
   ],
   "source": [
    "data.shape"
   ]
  },
  {
   "cell_type": "code",
   "execution_count": 152,
   "id": "59ab001f",
   "metadata": {},
   "outputs": [],
   "source": [
    "# it took a lot of time working with the 400k rows of data so 100K would be more effective\n",
    "\n",
    "df = data.sample(100000)"
   ]
  },
  {
   "cell_type": "markdown",
   "id": "6cd71d48",
   "metadata": {},
   "source": [
    "# Overview"
   ]
  },
  {
   "cell_type": "code",
   "execution_count": 143,
   "id": "3dfc24cf",
   "metadata": {},
   "outputs": [
    {
     "data": {
      "text/html": [
       "<div>\n",
       "<style scoped>\n",
       "    .dataframe tbody tr th:only-of-type {\n",
       "        vertical-align: middle;\n",
       "    }\n",
       "\n",
       "    .dataframe tbody tr th {\n",
       "        vertical-align: top;\n",
       "    }\n",
       "\n",
       "    .dataframe thead th {\n",
       "        text-align: right;\n",
       "    }\n",
       "</style>\n",
       "<table border=\"1\" class=\"dataframe\">\n",
       "  <thead>\n",
       "    <tr style=\"text-align: right;\">\n",
       "      <th></th>\n",
       "      <th>id</th>\n",
       "      <th>url</th>\n",
       "      <th>region</th>\n",
       "      <th>region_url</th>\n",
       "      <th>price</th>\n",
       "      <th>year</th>\n",
       "      <th>manufacturer</th>\n",
       "      <th>model</th>\n",
       "      <th>condition</th>\n",
       "      <th>cylinders</th>\n",
       "      <th>fuel</th>\n",
       "      <th>odometer</th>\n",
       "      <th>title_status</th>\n",
       "      <th>transmission</th>\n",
       "      <th>VIN</th>\n",
       "      <th>drive</th>\n",
       "      <th>size</th>\n",
       "      <th>type</th>\n",
       "      <th>paint_color</th>\n",
       "      <th>image_url</th>\n",
       "      <th>description</th>\n",
       "      <th>county</th>\n",
       "      <th>state</th>\n",
       "      <th>lat</th>\n",
       "      <th>long</th>\n",
       "      <th>posting_date</th>\n",
       "    </tr>\n",
       "  </thead>\n",
       "  <tbody>\n",
       "    <tr>\n",
       "      <th>338395</th>\n",
       "      <td>7316859609</td>\n",
       "      <td>https://poconos.craigslist.org/ctd/d/pocono-pi...</td>\n",
       "      <td>poconos</td>\n",
       "      <td>https://poconos.craigslist.org</td>\n",
       "      <td>31590</td>\n",
       "      <td>2020.0</td>\n",
       "      <td>ford</td>\n",
       "      <td>ranger supercrew xlt pickup</td>\n",
       "      <td>good</td>\n",
       "      <td>NaN</td>\n",
       "      <td>gas</td>\n",
       "      <td>16279.0</td>\n",
       "      <td>clean</td>\n",
       "      <td>other</td>\n",
       "      <td>1FTER4EH1LLA41192</td>\n",
       "      <td>NaN</td>\n",
       "      <td>NaN</td>\n",
       "      <td>pickup</td>\n",
       "      <td>white</td>\n",
       "      <td>https://images.craigslist.org/01212_ccL55Zq0zd...</td>\n",
       "      <td>Carvana is the safer way to buy a car During t...</td>\n",
       "      <td>NaN</td>\n",
       "      <td>pa</td>\n",
       "      <td>41.110000</td>\n",
       "      <td>-75.450000</td>\n",
       "      <td>2021-05-04T14:41:04-0400</td>\n",
       "    </tr>\n",
       "    <tr>\n",
       "      <th>17826</th>\n",
       "      <td>7309854048</td>\n",
       "      <td>https://fayar.craigslist.org/ctd/d/2021-chinoo...</td>\n",
       "      <td>fayetteville</td>\n",
       "      <td>https://fayar.craigslist.org</td>\n",
       "      <td>16900</td>\n",
       "      <td>2021.0</td>\n",
       "      <td>NaN</td>\n",
       "      <td>CHINOOK DREAM 175BH</td>\n",
       "      <td>NaN</td>\n",
       "      <td>NaN</td>\n",
       "      <td>gas</td>\n",
       "      <td>0.0</td>\n",
       "      <td>clean</td>\n",
       "      <td>automatic</td>\n",
       "      <td>7KXBT2119MP020230</td>\n",
       "      <td>NaN</td>\n",
       "      <td>NaN</td>\n",
       "      <td>NaN</td>\n",
       "      <td>white</td>\n",
       "      <td>https://images.craigslist.org/00F0F_hDKyAx42z2...</td>\n",
       "      <td>2021 CHINOOK DREAM 175BH 21FT TRAVEL TRAILER  ...</td>\n",
       "      <td>NaN</td>\n",
       "      <td>ar</td>\n",
       "      <td>NaN</td>\n",
       "      <td>NaN</td>\n",
       "      <td>2021-04-20T11:19:23-0500</td>\n",
       "    </tr>\n",
       "    <tr>\n",
       "      <th>316904</th>\n",
       "      <td>7313701209</td>\n",
       "      <td>https://eugene.craigslist.org/ctd/d/gladstone-...</td>\n",
       "      <td>eugene</td>\n",
       "      <td>https://eugene.craigslist.org</td>\n",
       "      <td>38990</td>\n",
       "      <td>2010.0</td>\n",
       "      <td>ram</td>\n",
       "      <td>NaN</td>\n",
       "      <td>NaN</td>\n",
       "      <td>NaN</td>\n",
       "      <td>diesel</td>\n",
       "      <td>93244.0</td>\n",
       "      <td>clean</td>\n",
       "      <td>automatic</td>\n",
       "      <td>3D7UT2CL1AG158148</td>\n",
       "      <td>4wd</td>\n",
       "      <td>NaN</td>\n",
       "      <td>pickup</td>\n",
       "      <td>NaN</td>\n",
       "      <td>https://images.craigslist.org/00g0g_gKM5H46JXZ...</td>\n",
       "      <td>2010 Dodge Ram 2500 SLT BIGHORN 4X4/ 6.7L CUMM...</td>\n",
       "      <td>NaN</td>\n",
       "      <td>or</td>\n",
       "      <td>45.382346</td>\n",
       "      <td>-122.605132</td>\n",
       "      <td>2021-04-27T21:37:28-0700</td>\n",
       "    </tr>\n",
       "    <tr>\n",
       "      <th>300703</th>\n",
       "      <td>7314610164</td>\n",
       "      <td>https://wheeling.craigslist.org/ctd/d/wheeling...</td>\n",
       "      <td>northern panhandle</td>\n",
       "      <td>https://wheeling.craigslist.org</td>\n",
       "      <td>27990</td>\n",
       "      <td>2020.0</td>\n",
       "      <td>ford</td>\n",
       "      <td>ranger supercab xl pickup</td>\n",
       "      <td>good</td>\n",
       "      <td>NaN</td>\n",
       "      <td>gas</td>\n",
       "      <td>10688.0</td>\n",
       "      <td>clean</td>\n",
       "      <td>other</td>\n",
       "      <td>1FTER1EH1LLA36301</td>\n",
       "      <td>NaN</td>\n",
       "      <td>NaN</td>\n",
       "      <td>pickup</td>\n",
       "      <td>white</td>\n",
       "      <td>https://images.craigslist.org/01313_9Zne268YnW...</td>\n",
       "      <td>Carvana is the safer way to buy a car During t...</td>\n",
       "      <td>NaN</td>\n",
       "      <td>oh</td>\n",
       "      <td>40.070000</td>\n",
       "      <td>-80.690000</td>\n",
       "      <td>2021-04-29T20:11:48-0400</td>\n",
       "    </tr>\n",
       "    <tr>\n",
       "      <th>158389</th>\n",
       "      <td>7306906848</td>\n",
       "      <td>https://desmoines.craigslist.org/ctd/d/south-a...</td>\n",
       "      <td>des moines</td>\n",
       "      <td>https://desmoines.craigslist.org</td>\n",
       "      <td>51990</td>\n",
       "      <td>2013.0</td>\n",
       "      <td>ram</td>\n",
       "      <td>5500</td>\n",
       "      <td>good</td>\n",
       "      <td>NaN</td>\n",
       "      <td>diesel</td>\n",
       "      <td>129633.0</td>\n",
       "      <td>clean</td>\n",
       "      <td>other</td>\n",
       "      <td>3C7WRMALXDG588249</td>\n",
       "      <td>rwd</td>\n",
       "      <td>full-size</td>\n",
       "      <td>truck</td>\n",
       "      <td>white</td>\n",
       "      <td>https://images.craigslist.org/00b0b_h5mvAEREFj...</td>\n",
       "      <td>2013 RAM 5500 42 FOOT ARTICULATING BUCKET TRUC...</td>\n",
       "      <td>NaN</td>\n",
       "      <td>ia</td>\n",
       "      <td>40.468785</td>\n",
       "      <td>-74.281707</td>\n",
       "      <td>2021-04-14T16:30:12-0500</td>\n",
       "    </tr>\n",
       "  </tbody>\n",
       "</table>\n",
       "</div>"
      ],
      "text/plain": [
       "                id                                                url  \\\n",
       "338395  7316859609  https://poconos.craigslist.org/ctd/d/pocono-pi...   \n",
       "17826   7309854048  https://fayar.craigslist.org/ctd/d/2021-chinoo...   \n",
       "316904  7313701209  https://eugene.craigslist.org/ctd/d/gladstone-...   \n",
       "300703  7314610164  https://wheeling.craigslist.org/ctd/d/wheeling...   \n",
       "158389  7306906848  https://desmoines.craigslist.org/ctd/d/south-a...   \n",
       "\n",
       "                    region                        region_url  price    year  \\\n",
       "338395             poconos    https://poconos.craigslist.org  31590  2020.0   \n",
       "17826         fayetteville      https://fayar.craigslist.org  16900  2021.0   \n",
       "316904              eugene     https://eugene.craigslist.org  38990  2010.0   \n",
       "300703  northern panhandle   https://wheeling.craigslist.org  27990  2020.0   \n",
       "158389          des moines  https://desmoines.craigslist.org  51990  2013.0   \n",
       "\n",
       "       manufacturer                        model condition cylinders    fuel  \\\n",
       "338395         ford  ranger supercrew xlt pickup      good       NaN     gas   \n",
       "17826           NaN          CHINOOK DREAM 175BH       NaN       NaN     gas   \n",
       "316904          ram                          NaN       NaN       NaN  diesel   \n",
       "300703         ford    ranger supercab xl pickup      good       NaN     gas   \n",
       "158389          ram                         5500      good       NaN  diesel   \n",
       "\n",
       "        odometer title_status transmission                VIN drive  \\\n",
       "338395   16279.0        clean        other  1FTER4EH1LLA41192   NaN   \n",
       "17826        0.0        clean    automatic  7KXBT2119MP020230   NaN   \n",
       "316904   93244.0        clean    automatic  3D7UT2CL1AG158148   4wd   \n",
       "300703   10688.0        clean        other  1FTER1EH1LLA36301   NaN   \n",
       "158389  129633.0        clean        other  3C7WRMALXDG588249   rwd   \n",
       "\n",
       "             size    type paint_color  \\\n",
       "338395        NaN  pickup       white   \n",
       "17826         NaN     NaN       white   \n",
       "316904        NaN  pickup         NaN   \n",
       "300703        NaN  pickup       white   \n",
       "158389  full-size   truck       white   \n",
       "\n",
       "                                                image_url  \\\n",
       "338395  https://images.craigslist.org/01212_ccL55Zq0zd...   \n",
       "17826   https://images.craigslist.org/00F0F_hDKyAx42z2...   \n",
       "316904  https://images.craigslist.org/00g0g_gKM5H46JXZ...   \n",
       "300703  https://images.craigslist.org/01313_9Zne268YnW...   \n",
       "158389  https://images.craigslist.org/00b0b_h5mvAEREFj...   \n",
       "\n",
       "                                              description  county state  \\\n",
       "338395  Carvana is the safer way to buy a car During t...     NaN    pa   \n",
       "17826   2021 CHINOOK DREAM 175BH 21FT TRAVEL TRAILER  ...     NaN    ar   \n",
       "316904  2010 Dodge Ram 2500 SLT BIGHORN 4X4/ 6.7L CUMM...     NaN    or   \n",
       "300703  Carvana is the safer way to buy a car During t...     NaN    oh   \n",
       "158389  2013 RAM 5500 42 FOOT ARTICULATING BUCKET TRUC...     NaN    ia   \n",
       "\n",
       "              lat        long              posting_date  \n",
       "338395  41.110000  -75.450000  2021-05-04T14:41:04-0400  \n",
       "17826         NaN         NaN  2021-04-20T11:19:23-0500  \n",
       "316904  45.382346 -122.605132  2021-04-27T21:37:28-0700  \n",
       "300703  40.070000  -80.690000  2021-04-29T20:11:48-0400  \n",
       "158389  40.468785  -74.281707  2021-04-14T16:30:12-0500  "
      ]
     },
     "execution_count": 143,
     "metadata": {},
     "output_type": "execute_result"
    }
   ],
   "source": [
    "pd.set_option('display.max_column', None)\n",
    "df.head()"
   ]
  },
  {
   "cell_type": "code",
   "execution_count": 153,
   "id": "7f9d2271",
   "metadata": {},
   "outputs": [
    {
     "name": "stdout",
     "output_type": "stream",
     "text": [
      "<class 'pandas.core.frame.DataFrame'>\n",
      "Index: 100000 entries, 201519 to 70456\n",
      "Data columns (total 26 columns):\n",
      " #   Column        Non-Null Count   Dtype  \n",
      "---  ------        --------------   -----  \n",
      " 0   id            100000 non-null  int64  \n",
      " 1   url           100000 non-null  object \n",
      " 2   region        100000 non-null  object \n",
      " 3   region_url    100000 non-null  object \n",
      " 4   price         100000 non-null  int64  \n",
      " 5   year          99721 non-null   float64\n",
      " 6   manufacturer  95867 non-null   object \n",
      " 7   model         98835 non-null   object \n",
      " 8   condition     59356 non-null   object \n",
      " 9   cylinders     58181 non-null   object \n",
      " 10  fuel          99304 non-null   object \n",
      " 11  odometer      99013 non-null   float64\n",
      " 12  title_status  98120 non-null   object \n",
      " 13  transmission  99445 non-null   object \n",
      " 14  VIN           62284 non-null   object \n",
      " 15  drive         69337 non-null   object \n",
      " 16  size          28014 non-null   object \n",
      " 17  type          78195 non-null   object \n",
      " 18  paint_color   69523 non-null   object \n",
      " 19  image_url     99990 non-null   object \n",
      " 20  description   99990 non-null   object \n",
      " 21  county        0 non-null       float64\n",
      " 22  state         100000 non-null  object \n",
      " 23  lat           98501 non-null   float64\n",
      " 24  long          98501 non-null   float64\n",
      " 25  posting_date  99990 non-null   object \n",
      "dtypes: float64(5), int64(2), object(19)\n",
      "memory usage: 20.6+ MB\n"
     ]
    }
   ],
   "source": [
    "df.info()"
   ]
  },
  {
   "cell_type": "code",
   "execution_count": 154,
   "id": "92f8aeca",
   "metadata": {},
   "outputs": [
    {
     "data": {
      "text/plain": [
       "id                0.000\n",
       "url               0.000\n",
       "region            0.000\n",
       "region_url        0.000\n",
       "price             0.000\n",
       "year              0.279\n",
       "manufacturer      4.133\n",
       "model             1.165\n",
       "condition        40.644\n",
       "cylinders        41.819\n",
       "fuel              0.696\n",
       "odometer          0.987\n",
       "title_status      1.880\n",
       "transmission      0.555\n",
       "VIN              37.716\n",
       "drive            30.663\n",
       "size             71.986\n",
       "type             21.805\n",
       "paint_color      30.477\n",
       "image_url         0.010\n",
       "description       0.010\n",
       "county          100.000\n",
       "state             0.000\n",
       "lat               1.499\n",
       "long              1.499\n",
       "posting_date      0.010\n",
       "dtype: float64"
      ]
     },
     "execution_count": 154,
     "metadata": {},
     "output_type": "execute_result"
    }
   ],
   "source": [
    "# evaluating nulls\n",
    "(df.isnull().sum()/len(df)) * 100"
   ]
  },
  {
   "cell_type": "code",
   "execution_count": 155,
   "id": "d4b53f34",
   "metadata": {},
   "outputs": [
    {
     "data": {
      "text/plain": [
       "id              100000\n",
       "url             100000\n",
       "region             404\n",
       "region_url         413\n",
       "price             8086\n",
       "year               100\n",
       "manufacturer        42\n",
       "model            13734\n",
       "condition            6\n",
       "cylinders            8\n",
       "fuel                 5\n",
       "odometer         45007\n",
       "title_status         6\n",
       "transmission         3\n",
       "VIN              41446\n",
       "drive                3\n",
       "size                 4\n",
       "type                13\n",
       "paint_color         12\n",
       "image_url        74091\n",
       "description      92590\n",
       "county               0\n",
       "state               51\n",
       "lat              22231\n",
       "long             22441\n",
       "posting_date     96962\n",
       "dtype: int64"
      ]
     },
     "execution_count": 155,
     "metadata": {},
     "output_type": "execute_result"
    }
   ],
   "source": [
    "# searching for unique values\n",
    "df.nunique()"
   ]
  },
  {
   "cell_type": "code",
   "execution_count": 86,
   "id": "46f183fd",
   "metadata": {},
   "outputs": [
    {
     "name": "stdout",
     "output_type": "stream",
     "text": [
      "condition : \n",
      " ['excellent' 'good' 'like new' 'fair' 'new' 'salvage'] \n",
      "\n",
      "cylinders : \n",
      " ['6 cylinders' '4 cylinders' '8 cylinders' '10 cylinders' '5 cylinders'\n",
      " '3 cylinders' 'other' '12 cylinders'] \n",
      "\n",
      "fuel : \n",
      " ['gas' 'other' 'hybrid' 'diesel' 'electric'] \n",
      "\n",
      "title_status : \n",
      " ['clean' 'rebuilt' 'salvage' 'lien' 'missing' 'parts only'] \n",
      "\n",
      "transmission : \n",
      " ['automatic' 'other' 'manual'] \n",
      "\n",
      "drive : \n",
      " ['rwd' '4wd' 'fwd'] \n",
      "\n",
      "type : \n",
      " ['van' 'wagon' 'coupe' 'sedan' 'truck' 'SUV' 'other' 'pickup' 'mini-van'\n",
      " 'hatchback' 'convertible' 'offroad' 'bus'] \n",
      "\n",
      "paint_color : \n",
      " ['white' 'green' 'custom' 'red' 'brown' 'silver' 'black' 'grey' 'blue'\n",
      " 'yellow' 'orange' 'purple'] \n",
      "\n"
     ]
    }
   ],
   "source": [
    "# categories\n",
    "categorical_columns = df[['condition', 'cylinders', 'fuel', 'title_status',\n",
    "                          'transmission', 'drive', 'type', 'paint_color']]\n",
    "\n",
    "for column in categorical_columns:\n",
    "    print(column, ': \\n' , df[column].unique(), '\\n')"
   ]
  },
  {
   "cell_type": "markdown",
   "id": "8994b177",
   "metadata": {},
   "source": [
    "# Deleting useless rows & columns"
   ]
  },
  {
   "cell_type": "code",
   "execution_count": 156,
   "id": "20d031d0",
   "metadata": {},
   "outputs": [],
   "source": [
    "# useless columns\n",
    "df.drop(['id', 'url', 'region_url', 'county', 'size', 'image_url', 'description'], axis = 1, inplace = True)"
   ]
  },
  {
   "cell_type": "code",
   "execution_count": 157,
   "id": "02de9b5b",
   "metadata": {},
   "outputs": [],
   "source": [
    "# unknow cars\n",
    "df.dropna(subset = ['manufacturer', 'model'], how = 'all', inplace = True)"
   ]
  },
  {
   "cell_type": "code",
   "execution_count": 158,
   "id": "5a963ea5",
   "metadata": {},
   "outputs": [],
   "source": [
    "# cars with no features\n",
    "df.dropna(subset = ['condition','cylinders','fuel',\n",
    "                    'odometer','title_status','transmission',\n",
    "                    'drive','type'], how = 'all', inplace = True)"
   ]
  },
  {
   "cell_type": "code",
   "execution_count": 174,
   "id": "7e25f064",
   "metadata": {},
   "outputs": [
    {
     "data": {
      "text/plain": [
       "(93663, 19)"
      ]
     },
     "execution_count": 174,
     "metadata": {},
     "output_type": "execute_result"
    }
   ],
   "source": [
    "df.shape"
   ]
  },
  {
   "cell_type": "code",
   "execution_count": 160,
   "id": "7640c537",
   "metadata": {
    "scrolled": false
   },
   "outputs": [
    {
     "data": {
      "text/plain": [
       "Index(['region', 'price', 'year', 'manufacturer', 'model', 'condition',\n",
       "       'cylinders', 'fuel', 'odometer', 'title_status', 'transmission', 'VIN',\n",
       "       'drive', 'type', 'paint_color', 'state', 'lat', 'long', 'posting_date'],\n",
       "      dtype='object')"
      ]
     },
     "execution_count": 160,
     "metadata": {},
     "output_type": "execute_result"
    }
   ],
   "source": [
    "df.columns"
   ]
  },
  {
   "cell_type": "markdown",
   "id": "56ec749d",
   "metadata": {},
   "source": [
    "# Manufacturer & Model"
   ]
  },
  {
   "cell_type": "code",
   "execution_count": 226,
   "id": "ede2de26",
   "metadata": {},
   "outputs": [],
   "source": [
    "# populating 'manufacturer' with the mode value per each 'model'"
   ]
  },
  {
   "cell_type": "code",
   "execution_count": 161,
   "id": "fc1b2a09",
   "metadata": {},
   "outputs": [
    {
     "name": "stdout",
     "output_type": "stream",
     "text": [
      "11699 11699 2035\n"
     ]
    }
   ],
   "source": [
    "# unique models\n",
    "models = df['model'].dropna().unique()\n",
    "\n",
    "# empty lists to save the result\n",
    "manufacturer_list = []\n",
    "model_list = []\n",
    "models_null_manufacturer = []\n",
    "\n",
    "for model in models:\n",
    "    # manufacturer mode value\n",
    "    mode_value = df[df['model'] == model]['manufacturer'].mode()\n",
    "    \n",
    "    if not mode_value.empty:\n",
    "        \n",
    "        # assining values to the lists\n",
    "        model_list.append(model)\n",
    "        manufacturer_list.append(mode_value.iloc[0])\n",
    "    else:\n",
    "        models_null_manufacturer.append(model)\n",
    "    \n",
    "print(len(model_list), len(manufacturer_list), len(models_null_manufacturer)) "
   ]
  },
  {
   "cell_type": "code",
   "execution_count": 162,
   "id": "1be572ae",
   "metadata": {},
   "outputs": [],
   "source": [
    "# filling nulls\n",
    "for i in range(min(len(model_list), len(manufacturer_list))):\n",
    "    df.loc[(df['manufacturer'].isnull()) & (df['model'] == model_list[i]), 'manufacturer'] = manufacturer_list[i]"
   ]
  },
  {
   "cell_type": "code",
   "execution_count": 163,
   "id": "4d0f4a18",
   "metadata": {},
   "outputs": [
    {
     "name": "stdout",
     "output_type": "stream",
     "text": [
      "3995 \n",
      "\n",
      "3995\n"
     ]
    }
   ],
   "source": [
    "# checking\n",
    "print(df['manufacturer'].isnull().sum(), '\\n')\n",
    "print(len(df[df['model'].isin(models_null_manufacturer)]))"
   ]
  },
  {
   "cell_type": "code",
   "execution_count": 164,
   "id": "f06276ff",
   "metadata": {},
   "outputs": [],
   "source": [
    "# models_null_manufacturer\n",
    "df['manufacturer'] = df['manufacturer'].fillna('unknown')"
   ]
  },
  {
   "cell_type": "code",
   "execution_count": 165,
   "id": "bc414280",
   "metadata": {},
   "outputs": [
    {
     "data": {
      "text/plain": [
       "0"
      ]
     },
     "execution_count": 165,
     "metadata": {},
     "output_type": "execute_result"
    }
   ],
   "source": [
    "# checking\n",
    "df['manufacturer'].isnull().sum()"
   ]
  },
  {
   "cell_type": "code",
   "execution_count": 232,
   "id": "67c07e22",
   "metadata": {},
   "outputs": [],
   "source": [
    "# the same process for 'model'"
   ]
  },
  {
   "cell_type": "code",
   "execution_count": 166,
   "id": "0c92b530",
   "metadata": {},
   "outputs": [
    {
     "name": "stdout",
     "output_type": "stream",
     "text": [
      "42 42 1\n"
     ]
    }
   ],
   "source": [
    "manufacturers = df['manufacturer'].dropna().unique()\n",
    "\n",
    "# empty lists to save the result\n",
    "manufacturer_list1 = []\n",
    "model_list1 = []\n",
    "manufacturer_null_model = []\n",
    "\n",
    "for manufacturer in manufacturers:\n",
    "    # model mode value\n",
    "    mode_value = df[df['manufacturer'] == manufacturer]['model'].mode()\n",
    "    \n",
    "    if not mode_value.empty:\n",
    "        # assining values to the lists\n",
    "        model_list1.append(mode_value.iloc[0])\n",
    "        manufacturer_list1.append(manufacturer)\n",
    "    else:\n",
    "        manufacturer_null_model.append(manufacturer)\n",
    "    \n",
    "print(len(model_list1), len(manufacturer_list1), len(manufacturer_null_model)) "
   ]
  },
  {
   "cell_type": "code",
   "execution_count": 167,
   "id": "063d31c5",
   "metadata": {},
   "outputs": [],
   "source": [
    "for i in range(min(len(model_list1), len(manufacturer_list1))):\n",
    "    df.loc[(df['model'].isnull()) & (df['manufacturer'] == manufacturer_list1[i]), 'model'] = model_list1[i]"
   ]
  },
  {
   "cell_type": "code",
   "execution_count": 168,
   "id": "e56ff9ce",
   "metadata": {},
   "outputs": [],
   "source": [
    "# manufacturer_null_model\n",
    "df['model'] = df['model'].fillna('unknown')"
   ]
  },
  {
   "cell_type": "code",
   "execution_count": 169,
   "id": "bd74724e",
   "metadata": {},
   "outputs": [
    {
     "data": {
      "text/plain": [
       "0"
      ]
     },
     "execution_count": 169,
     "metadata": {},
     "output_type": "execute_result"
    }
   ],
   "source": [
    "# checking\n",
    "df['model'].isnull().sum()"
   ]
  },
  {
   "cell_type": "markdown",
   "id": "a2337cf2",
   "metadata": {},
   "source": [
    "# Year"
   ]
  },
  {
   "cell_type": "code",
   "execution_count": 170,
   "id": "3455d285",
   "metadata": {},
   "outputs": [
    {
     "data": {
      "image/png": "[encoded data removed]",
      "text/plain": [
       "<Figure size 640x480 with 1 Axes>"
      ]
     },
     "metadata": {},
     "output_type": "display_data"
    }
   ],
   "source": [
    "sns.boxplot(y = df['year'])\n",
    "plt.show()"
   ]
  },
  {
   "cell_type": "code",
   "execution_count": 171,
   "id": "eef8b3b7",
   "metadata": {},
   "outputs": [
    {
     "data": {
      "image/png": "[encoded data removed]",
      "text/plain": [
       "<Figure size 640x480 with 1 Axes>"
      ]
     },
     "metadata": {},
     "output_type": "display_data"
    }
   ],
   "source": [
    "df['year'].hist()\n",
    "plt.show()"
   ]
  },
  {
   "cell_type": "code",
   "execution_count": 172,
   "id": "cba4167b",
   "metadata": {},
   "outputs": [],
   "source": [
    "# dropping rows with null years (small number of rows)\n",
    "df['year'].dropna(inplace = True)"
   ]
  },
  {
   "cell_type": "code",
   "execution_count": 173,
   "id": "fab49a87",
   "metadata": {},
   "outputs": [],
   "source": [
    "# removing outdated data\n",
    "df = df[df['year']>=2000]"
   ]
  },
  {
   "cell_type": "markdown",
   "id": "2c6e416f",
   "metadata": {},
   "source": [
    "# Type"
   ]
  },
  {
   "cell_type": "code",
   "execution_count": 239,
   "id": "a0dba611",
   "metadata": {},
   "outputs": [
    {
     "data": {
      "text/plain": [
       "array(['hatchback', 'truck', 'pickup', 'sedan', nan, 'SUV', 'convertible',\n",
       "       'other', 'coupe', 'wagon', 'mini-van', 'van', 'offroad', 'bus'],\n",
       "      dtype=object)"
      ]
     },
     "execution_count": 239,
     "metadata": {},
     "output_type": "execute_result"
    }
   ],
   "source": [
    "df['type'].unique()"
   ]
  },
  {
   "cell_type": "code",
   "execution_count": 175,
   "id": "93a86773",
   "metadata": {},
   "outputs": [
    {
     "name": "stdout",
     "output_type": "stream",
     "text": [
      "10302 10302 3432\n"
     ]
    }
   ],
   "source": [
    "# empty lists to save the result\n",
    "typ = []\n",
    "model_type = []\n",
    "models_null_type = []\n",
    "\n",
    "for model in models:\n",
    "    # manufacturer mode value\n",
    "    mode_value = df[df['model'] == model]['type'].mode()\n",
    "    \n",
    "    if not mode_value.empty:\n",
    "        \n",
    "        # assining values to the lists\n",
    "        model_type.append(model)\n",
    "        typ.append(mode_value.iloc[0])\n",
    "    else:\n",
    "        models_null_type.append(model)\n",
    "    \n",
    "print(len(model_type), len(typ), len(models_null_type))  "
   ]
  },
  {
   "cell_type": "code",
   "execution_count": 176,
   "id": "dcf40637",
   "metadata": {},
   "outputs": [],
   "source": [
    "# filling nulls\n",
    "for i in range(min(len(model_type), len(typ))):\n",
    "    df.loc[(df['type'].isnull()) & (df['model'] == model_type[i]), 'type'] = typ[i]"
   ]
  },
  {
   "cell_type": "code",
   "execution_count": 177,
   "id": "725ac11c",
   "metadata": {},
   "outputs": [],
   "source": [
    "# models_null_type\n",
    "df['type'].fillna('other', inplace = True)"
   ]
  },
  {
   "cell_type": "code",
   "execution_count": 178,
   "id": "8758c421",
   "metadata": {},
   "outputs": [
    {
     "data": {
      "text/plain": [
       "0"
      ]
     },
     "execution_count": 178,
     "metadata": {},
     "output_type": "execute_result"
    }
   ],
   "source": [
    "# checking\n",
    "df['type'].isnull().sum()"
   ]
  },
  {
   "cell_type": "markdown",
   "id": "5153614f",
   "metadata": {},
   "source": [
    "# VIN"
   ]
  },
  {
   "cell_type": "code",
   "execution_count": 108,
   "id": "3e5c5342",
   "metadata": {},
   "outputs": [],
   "source": [
    "# making it a binary column"
   ]
  },
  {
   "cell_type": "code",
   "execution_count": 179,
   "id": "d3d5fa2c",
   "metadata": {
    "scrolled": true
   },
   "outputs": [],
   "source": [
    "df.loc[df['VIN'].notnull(), 'VIN'] = 1"
   ]
  },
  {
   "cell_type": "code",
   "execution_count": 180,
   "id": "688df651",
   "metadata": {},
   "outputs": [],
   "source": [
    "df['VIN'].fillna(0, inplace = True)"
   ]
  },
  {
   "cell_type": "markdown",
   "id": "3a79377c",
   "metadata": {},
   "source": [
    "# Drive"
   ]
  },
  {
   "cell_type": "code",
   "execution_count": 181,
   "id": "4be89dbb",
   "metadata": {},
   "outputs": [
    {
     "data": {
      "text/plain": [
       "array(['4wd', 'rwd', 'fwd', nan], dtype=object)"
      ]
     },
     "execution_count": 181,
     "metadata": {},
     "output_type": "execute_result"
    }
   ],
   "source": [
    "df['drive'].unique()"
   ]
  },
  {
   "cell_type": "code",
   "execution_count": 182,
   "id": "c86c1acd",
   "metadata": {},
   "outputs": [
    {
     "name": "stdout",
     "output_type": "stream",
     "text": [
      "9431 9431 4303\n"
     ]
    }
   ],
   "source": [
    "# empty lists to save the result\n",
    "drive = []\n",
    "model_drive = []\n",
    "models_null_drive = []\n",
    "\n",
    "for model in models:\n",
    "    # manufacturer mode value\n",
    "    mode_value = df[df['model'] == model]['drive'].mode()\n",
    "    \n",
    "    if not mode_value.empty:\n",
    "        \n",
    "        # assining values to the lists\n",
    "        model_drive.append(model)\n",
    "        drive.append(mode_value.iloc[0])\n",
    "    else:\n",
    "        models_null_drive.append(model)\n",
    "    \n",
    "print(len(model_drive), len(drive), len(models_null_drive))"
   ]
  },
  {
   "cell_type": "code",
   "execution_count": 183,
   "id": "9f3dd2ae",
   "metadata": {},
   "outputs": [],
   "source": [
    "# filling nulls\n",
    "for i in range(min(len(model_drive), len(drive))):\n",
    "    df.loc[(df['drive'].isnull()) & (df['model'] == model_drive[i]), 'drive'] = drive[i]"
   ]
  },
  {
   "cell_type": "code",
   "execution_count": 184,
   "id": "0cee6190",
   "metadata": {},
   "outputs": [
    {
     "data": {
      "text/plain": [
       "6260"
      ]
     },
     "execution_count": 184,
     "metadata": {},
     "output_type": "execute_result"
    }
   ],
   "source": [
    "df['drive'].isnull().sum()"
   ]
  },
  {
   "cell_type": "code",
   "execution_count": 185,
   "id": "29d17275",
   "metadata": {},
   "outputs": [],
   "source": [
    "# models_null_type\n",
    "df['drive'].fillna(df['drive'].mode().iloc[0], inplace = True)"
   ]
  },
  {
   "cell_type": "code",
   "execution_count": 186,
   "id": "e2fde890",
   "metadata": {},
   "outputs": [
    {
     "data": {
      "text/plain": [
       "0"
      ]
     },
     "execution_count": 186,
     "metadata": {},
     "output_type": "execute_result"
    }
   ],
   "source": [
    "df['drive'].isnull().sum()"
   ]
  },
  {
   "cell_type": "markdown",
   "id": "e48757e3",
   "metadata": {},
   "source": [
    "# Fuel, title_status, transmission, odometer, paint_color"
   ]
  },
  {
   "cell_type": "code",
   "execution_count": 187,
   "id": "7a95554a",
   "metadata": {},
   "outputs": [],
   "source": [
    "# filling nulls with the mode values \n",
    "for column in df[['fuel', 'title_status', 'transmission']]:\n",
    "    df[column].fillna(df[column].mode().iloc[0], inplace = True)"
   ]
  },
  {
   "cell_type": "code",
   "execution_count": 188,
   "id": "b08db264",
   "metadata": {},
   "outputs": [],
   "source": [
    "# filling with mean value\n",
    "df['odometer'].fillna(df['odometer'].mean(), inplace = True)"
   ]
  },
  {
   "cell_type": "code",
   "execution_count": 189,
   "id": "5b70b4c2",
   "metadata": {},
   "outputs": [],
   "source": [
    "df['paint_color'].fillna('custom', inplace = True)"
   ]
  },
  {
   "cell_type": "markdown",
   "id": "a0be3a77",
   "metadata": {},
   "source": [
    "# Condition"
   ]
  },
  {
   "cell_type": "code",
   "execution_count": 201,
   "id": "5a99fde6",
   "metadata": {
    "scrolled": false
   },
   "outputs": [
    {
     "data": {
      "image/png": "[encoded data removed]",
      "text/plain": [
       "<Figure size 640x480 with 1 Axes>"
      ]
     },
     "metadata": {},
     "output_type": "display_data"
    },
    {
     "name": "stdout",
     "output_type": "stream",
     "text": [
      "count    43883.000000\n",
      "mean      2011.545359\n",
      "std          4.133214\n",
      "min       2000.000000\n",
      "25%       2008.000000\n",
      "50%       2012.000000\n",
      "75%       2014.000000\n",
      "max       2022.000000\n",
      "Name: year, dtype: float64 \n",
      "\n"
     ]
    },
    {
     "data": {
      "image/png": "[encoded data removed]",
      "text/plain": [
       "<Figure size 640x480 with 1 Axes>"
      ]
     },
     "metadata": {},
     "output_type": "display_data"
    },
    {
     "name": "stdout",
     "output_type": "stream",
     "text": [
      "count    42233.000000\n",
      "mean      2014.644970\n",
      "std          5.230776\n",
      "min       2000.000000\n",
      "25%       2013.000000\n",
      "50%       2017.000000\n",
      "75%       2018.000000\n",
      "max       2021.000000\n",
      "Name: year, dtype: float64 \n",
      "\n"
     ]
    },
    {
     "data": {
      "image/png": "[encoded data removed]",
      "text/plain": [
       "<Figure size 640x480 with 1 Axes>"
      ]
     },
     "metadata": {},
     "output_type": "display_data"
    },
    {
     "name": "stdout",
     "output_type": "stream",
     "text": [
      "count    4662.000000\n",
      "mean     2013.163235\n",
      "std         4.945504\n",
      "min      2000.000000\n",
      "25%      2010.000000\n",
      "50%      2014.000000\n",
      "75%      2017.000000\n",
      "max      2022.000000\n",
      "Name: year, dtype: float64 \n",
      "\n"
     ]
    },
    {
     "data": {
      "image/png": "[encoded data removed]",
      "text/plain": [
       "<Figure size 640x480 with 1 Axes>"
      ]
     },
     "metadata": {},
     "output_type": "display_data"
    },
    {
     "name": "stdout",
     "output_type": "stream",
     "text": [
      "count    1001.000000\n",
      "mean     2005.492507\n",
      "std         4.087321\n",
      "min      2000.000000\n",
      "25%      2002.000000\n",
      "50%      2005.000000\n",
      "75%      2008.000000\n",
      "max      2022.000000\n",
      "Name: year, dtype: float64 \n",
      "\n"
     ]
    },
    {
     "data": {
      "image/png": "[encoded data removed]",
      "text/plain": [
       "<Figure size 640x480 with 1 Axes>"
      ]
     },
     "metadata": {},
     "output_type": "display_data"
    },
    {
     "name": "stdout",
     "output_type": "stream",
     "text": [
      "count      99.000000\n",
      "mean     2007.525253\n",
      "std         5.263163\n",
      "min      2001.000000\n",
      "25%      2003.500000\n",
      "50%      2006.000000\n",
      "75%      2011.500000\n",
      "max      2020.000000\n",
      "Name: year, dtype: float64 \n",
      "\n"
     ]
    },
    {
     "data": {
      "image/png": "[encoded data removed]",
      "text/plain": [
       "<Figure size 640x480 with 1 Axes>"
      ]
     },
     "metadata": {},
     "output_type": "display_data"
    },
    {
     "name": "stdout",
     "output_type": "stream",
     "text": [
      "count     309.000000\n",
      "mean     2016.834951\n",
      "std         5.497515\n",
      "min      2000.000000\n",
      "25%      2014.000000\n",
      "50%      2020.000000\n",
      "75%      2021.000000\n",
      "max      2022.000000\n",
      "Name: year, dtype: float64 \n",
      "\n"
     ]
    }
   ],
   "source": [
    "for cond in df['condition'].unique():\n",
    "    \n",
    "    sns.boxplot(y = df['year'][df['condition'] == cond])\n",
    "    plt.title(cond)\n",
    "    plt.show()\n",
    "    print(df['year'][df['condition'] == cond].describe(), '\\n')\n",
    "    \n",
    "    "
   ]
  },
  {
   "cell_type": "code",
   "execution_count": 64,
   "id": "9a54c268",
   "metadata": {},
   "outputs": [],
   "source": [
    "# populating the condition with the mode value per each year"
   ]
  },
  {
   "cell_type": "code",
   "execution_count": 190,
   "id": "5a021328",
   "metadata": {},
   "outputs": [
    {
     "name": "stdout",
     "output_type": "stream",
     "text": [
      "23 23 0\n"
     ]
    }
   ],
   "source": [
    "years = df['year'].unique()\n",
    "\n",
    "year_list = []\n",
    "condition_mode = []\n",
    "empty_years = []\n",
    "\n",
    "for year in years:\n",
    "    mode = df[df['year'] == year]['condition'].mode()\n",
    "    \n",
    "    if not mode.empty:\n",
    "        year_list.append(year)\n",
    "        condition_mode.append(mode.iloc[0])\n",
    "    else:\n",
    "        empty_years.append(year)\n",
    "print(len(year_list), len(condition_mode), len(empty_years))"
   ]
  },
  {
   "cell_type": "code",
   "execution_count": 191,
   "id": "ada02b2a",
   "metadata": {},
   "outputs": [],
   "source": [
    "# filling nulls\n",
    "for i in range(min(len(year_list), len(condition_mode))):\n",
    "    df.loc[(df['condition'].isnull()) & (df['year'] == year_list[i]), 'condition'] = condition_mode[i]"
   ]
  },
  {
   "cell_type": "code",
   "execution_count": 192,
   "id": "13e5da80",
   "metadata": {},
   "outputs": [
    {
     "data": {
      "text/plain": [
       "0"
      ]
     },
     "execution_count": 192,
     "metadata": {},
     "output_type": "execute_result"
    }
   ],
   "source": [
    "# checking\n",
    "df['condition'].isnull().sum()"
   ]
  },
  {
   "cell_type": "markdown",
   "id": "339a361b",
   "metadata": {},
   "source": [
    "# Cylinders"
   ]
  },
  {
   "cell_type": "code",
   "execution_count": 77,
   "id": "77e61818",
   "metadata": {},
   "outputs": [],
   "source": [
    "# populating number of cylinders besed on the vehicle type"
   ]
  },
  {
   "cell_type": "code",
   "execution_count": 193,
   "id": "1cc6d479",
   "metadata": {},
   "outputs": [
    {
     "name": "stdout",
     "output_type": "stream",
     "text": [
      "13 13 0\n"
     ]
    }
   ],
   "source": [
    "vehicle_types = df['type'].unique()\n",
    "\n",
    "types = []\n",
    "cylinders = []\n",
    "empty = []\n",
    "\n",
    "for t in vehicle_types:\n",
    "    cylinder_mode = df[df['type'] == t]['cylinders'].mode()\n",
    "    \n",
    "    if not cylinder_mode.empty:\n",
    "        types.append(t)\n",
    "        cylinders.append(cylinder_mode.iloc[0])\n",
    "    else:\n",
    "        empty.append(t)\n",
    "print(len(types), len(cylinders), len(empty))"
   ]
  },
  {
   "cell_type": "code",
   "execution_count": 194,
   "id": "692554a7",
   "metadata": {},
   "outputs": [],
   "source": [
    "# filling nulls\n",
    "for i in range(min(len(types), len(cylinders))):\n",
    "    df.loc[(df['cylinders'].isnull()) & (df['type'] == types[i]), 'cylinders'] = cylinders[i]"
   ]
  },
  {
   "cell_type": "code",
   "execution_count": 195,
   "id": "8b8d59b1",
   "metadata": {},
   "outputs": [
    {
     "data": {
      "text/plain": [
       "0"
      ]
     },
     "execution_count": 195,
     "metadata": {},
     "output_type": "execute_result"
    }
   ],
   "source": [
    "df['cylinders'].isnull().sum()"
   ]
  },
  {
   "cell_type": "code",
   "execution_count": 196,
   "id": "e6f30ad7",
   "metadata": {},
   "outputs": [
    {
     "data": {
      "text/plain": [
       "array(['8 cylinders', '6 cylinders', '4 cylinders', 'other',\n",
       "       '3 cylinders', '5 cylinders', '10 cylinders', '12 cylinders'],\n",
       "      dtype=object)"
      ]
     },
     "execution_count": 196,
     "metadata": {},
     "output_type": "execute_result"
    }
   ],
   "source": [
    "df['cylinders'].unique()"
   ]
  },
  {
   "cell_type": "markdown",
   "id": "57cf50be",
   "metadata": {},
   "source": [
    "# Lat & long"
   ]
  },
  {
   "cell_type": "code",
   "execution_count": 197,
   "id": "e3a3c291",
   "metadata": {},
   "outputs": [],
   "source": [
    "df.dropna(inplace = True)"
   ]
  },
  {
   "cell_type": "code",
   "execution_count": 198,
   "id": "a5fd8e9f",
   "metadata": {},
   "outputs": [
    {
     "data": {
      "text/plain": [
       "region          0\n",
       "price           0\n",
       "year            0\n",
       "manufacturer    0\n",
       "model           0\n",
       "condition       0\n",
       "cylinders       0\n",
       "fuel            0\n",
       "odometer        0\n",
       "title_status    0\n",
       "transmission    0\n",
       "VIN             0\n",
       "drive           0\n",
       "type            0\n",
       "paint_color     0\n",
       "state           0\n",
       "lat             0\n",
       "long            0\n",
       "posting_date    0\n",
       "dtype: int64"
      ]
     },
     "execution_count": 198,
     "metadata": {},
     "output_type": "execute_result"
    }
   ],
   "source": [
    "df.isnull().sum()"
   ]
  },
  {
   "cell_type": "code",
   "execution_count": 199,
   "id": "72dd5e1b",
   "metadata": {},
   "outputs": [],
   "source": [
    "# Saving the results to a csv file\n",
    "df.to_csv('used_cars_1st_output', index = False)"
   ]
  }
 ],
 "metadata": {
  "kernelspec": {
   "display_name": "Python 3 (ipykernel)",
   "language": "python",
   "name": "python3"
  },
  "language_info": {
   "codemirror_mode": {
    "name": "ipython",
    "version": 3
   },
   "file_extension": ".py",
   "mimetype": "text/x-python",
   "name": "python",
   "nbconvert_exporter": "python",
   "pygments_lexer": "ipython3",
   "version": "3.11.5"
  }
 },
 "nbformat": 4,
 "nbformat_minor": 5
}
